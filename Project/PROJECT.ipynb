{
  "nbformat": 4,
  "nbformat_minor": 0,
  "metadata": {
    "colab": {
      "provenance": []
    },
    "kernelspec": {
      "name": "python3",
      "display_name": "Python 3"
    },
    "language_info": {
      "name": "python"
    }
  },
  "cells": [
    {
      "cell_type": "markdown",
      "source": [
        "**About the dataset**\n",
        "\n",
        "This dataset is originally from the National Institute of Diabetes and Digestive and Kidney\n",
        "Diseases. The objective of the dataset is to diagnostically predict whether a patient has diabetes,\n",
        "based on certain diagnostic measurements included in the dataset. Several constraints were placed\n",
        "on the selection of these instances from a larger database. In particular, all patients here are females\n",
        "at least 21 years old of Pima Indian heritage.2\n",
        "From the data set in the (.csv) File We can find several variables, some of them are independent\n",
        "(several medical predictor variables) and only one target dependent variable (Outcome)."
      ],
      "metadata": {
        "id": "HRXjpngu_AMZ"
      }
    },
    {
      "cell_type": "markdown",
      "source": [],
      "metadata": {
        "id": "nlOfcP99_Wmq"
      }
    },
    {
      "cell_type": "code",
      "source": [
        "import numpy as np\n",
        "import pandas as pd\n",
        "import matplotlib.pyplot as plt\n",
        "import seaborn as sns\n",
        "import warnings\n",
        "warnings.filterwarnings('ignore')\n",
        "! wget https://raw.githubusercontent.com/KrutikaBhavsar/machine-learning-/main/diabetes.csv -nc\n"
      ],
      "metadata": {
        "colab": {
          "base_uri": "https://localhost:8080/"
        },
        "id": "94eeUYh3_UGD",
        "outputId": "5ff9db1a-71bd-4e68-ffd5-79d11ed53ee9"
      },
      "execution_count": 385,
      "outputs": [
        {
          "output_type": "stream",
          "name": "stdout",
          "text": [
            "File ‘diabetes.csv’ already there; not retrieving.\n",
            "\n"
          ]
        }
      ]
    },
    {
      "cell_type": "code",
      "source": [
        "df = pd.read_csv(\"diabetes.csv\")"
      ],
      "metadata": {
        "id": "c02-rDKPBDuw"
      },
      "execution_count": 386,
      "outputs": []
    },
    {
      "cell_type": "code",
      "source": [
        "df.head()"
      ],
      "metadata": {
        "colab": {
          "base_uri": "https://localhost:8080/",
          "height": 206
        },
        "id": "OK0vf9KDEic5",
        "outputId": "53ae3e10-c88d-478b-9150-4c9405bf3a54"
      },
      "execution_count": 387,
      "outputs": [
        {
          "output_type": "execute_result",
          "data": {
            "text/plain": [
              "   Pregnancies  Glucose  BloodPressure  SkinThickness  Insulin   BMI  \\\n",
              "0            6      148             72             35        0  33.6   \n",
              "1            1       85             66             29        0  26.6   \n",
              "2            8      183             64              0        0  23.3   \n",
              "3            1       89             66             23       94  28.1   \n",
              "4            0      137             40             35      168  43.1   \n",
              "\n",
              "   DiabetesPedigreeFunction  Age  Outcome  \n",
              "0                     0.627   50        1  \n",
              "1                     0.351   31        0  \n",
              "2                     0.672   32        1  \n",
              "3                     0.167   21        0  \n",
              "4                     2.288   33        1  "
            ],
            "text/html": [
              "\n",
              "  <div id=\"df-9315623b-0f13-49c0-a0d7-53e74fb3a9c3\">\n",
              "    <div class=\"colab-df-container\">\n",
              "      <div>\n",
              "<style scoped>\n",
              "    .dataframe tbody tr th:only-of-type {\n",
              "        vertical-align: middle;\n",
              "    }\n",
              "\n",
              "    .dataframe tbody tr th {\n",
              "        vertical-align: top;\n",
              "    }\n",
              "\n",
              "    .dataframe thead th {\n",
              "        text-align: right;\n",
              "    }\n",
              "</style>\n",
              "<table border=\"1\" class=\"dataframe\">\n",
              "  <thead>\n",
              "    <tr style=\"text-align: right;\">\n",
              "      <th></th>\n",
              "      <th>Pregnancies</th>\n",
              "      <th>Glucose</th>\n",
              "      <th>BloodPressure</th>\n",
              "      <th>SkinThickness</th>\n",
              "      <th>Insulin</th>\n",
              "      <th>BMI</th>\n",
              "      <th>DiabetesPedigreeFunction</th>\n",
              "      <th>Age</th>\n",
              "      <th>Outcome</th>\n",
              "    </tr>\n",
              "  </thead>\n",
              "  <tbody>\n",
              "    <tr>\n",
              "      <th>0</th>\n",
              "      <td>6</td>\n",
              "      <td>148</td>\n",
              "      <td>72</td>\n",
              "      <td>35</td>\n",
              "      <td>0</td>\n",
              "      <td>33.6</td>\n",
              "      <td>0.627</td>\n",
              "      <td>50</td>\n",
              "      <td>1</td>\n",
              "    </tr>\n",
              "    <tr>\n",
              "      <th>1</th>\n",
              "      <td>1</td>\n",
              "      <td>85</td>\n",
              "      <td>66</td>\n",
              "      <td>29</td>\n",
              "      <td>0</td>\n",
              "      <td>26.6</td>\n",
              "      <td>0.351</td>\n",
              "      <td>31</td>\n",
              "      <td>0</td>\n",
              "    </tr>\n",
              "    <tr>\n",
              "      <th>2</th>\n",
              "      <td>8</td>\n",
              "      <td>183</td>\n",
              "      <td>64</td>\n",
              "      <td>0</td>\n",
              "      <td>0</td>\n",
              "      <td>23.3</td>\n",
              "      <td>0.672</td>\n",
              "      <td>32</td>\n",
              "      <td>1</td>\n",
              "    </tr>\n",
              "    <tr>\n",
              "      <th>3</th>\n",
              "      <td>1</td>\n",
              "      <td>89</td>\n",
              "      <td>66</td>\n",
              "      <td>23</td>\n",
              "      <td>94</td>\n",
              "      <td>28.1</td>\n",
              "      <td>0.167</td>\n",
              "      <td>21</td>\n",
              "      <td>0</td>\n",
              "    </tr>\n",
              "    <tr>\n",
              "      <th>4</th>\n",
              "      <td>0</td>\n",
              "      <td>137</td>\n",
              "      <td>40</td>\n",
              "      <td>35</td>\n",
              "      <td>168</td>\n",
              "      <td>43.1</td>\n",
              "      <td>2.288</td>\n",
              "      <td>33</td>\n",
              "      <td>1</td>\n",
              "    </tr>\n",
              "  </tbody>\n",
              "</table>\n",
              "</div>\n",
              "      <button class=\"colab-df-convert\" onclick=\"convertToInteractive('df-9315623b-0f13-49c0-a0d7-53e74fb3a9c3')\"\n",
              "              title=\"Convert this dataframe to an interactive table.\"\n",
              "              style=\"display:none;\">\n",
              "        \n",
              "  <svg xmlns=\"http://www.w3.org/2000/svg\" height=\"24px\"viewBox=\"0 0 24 24\"\n",
              "       width=\"24px\">\n",
              "    <path d=\"M0 0h24v24H0V0z\" fill=\"none\"/>\n",
              "    <path d=\"M18.56 5.44l.94 2.06.94-2.06 2.06-.94-2.06-.94-.94-2.06-.94 2.06-2.06.94zm-11 1L8.5 8.5l.94-2.06 2.06-.94-2.06-.94L8.5 2.5l-.94 2.06-2.06.94zm10 10l.94 2.06.94-2.06 2.06-.94-2.06-.94-.94-2.06-.94 2.06-2.06.94z\"/><path d=\"M17.41 7.96l-1.37-1.37c-.4-.4-.92-.59-1.43-.59-.52 0-1.04.2-1.43.59L10.3 9.45l-7.72 7.72c-.78.78-.78 2.05 0 2.83L4 21.41c.39.39.9.59 1.41.59.51 0 1.02-.2 1.41-.59l7.78-7.78 2.81-2.81c.8-.78.8-2.07 0-2.86zM5.41 20L4 18.59l7.72-7.72 1.47 1.35L5.41 20z\"/>\n",
              "  </svg>\n",
              "      </button>\n",
              "      \n",
              "  <style>\n",
              "    .colab-df-container {\n",
              "      display:flex;\n",
              "      flex-wrap:wrap;\n",
              "      gap: 12px;\n",
              "    }\n",
              "\n",
              "    .colab-df-convert {\n",
              "      background-color: #E8F0FE;\n",
              "      border: none;\n",
              "      border-radius: 50%;\n",
              "      cursor: pointer;\n",
              "      display: none;\n",
              "      fill: #1967D2;\n",
              "      height: 32px;\n",
              "      padding: 0 0 0 0;\n",
              "      width: 32px;\n",
              "    }\n",
              "\n",
              "    .colab-df-convert:hover {\n",
              "      background-color: #E2EBFA;\n",
              "      box-shadow: 0px 1px 2px rgba(60, 64, 67, 0.3), 0px 1px 3px 1px rgba(60, 64, 67, 0.15);\n",
              "      fill: #174EA6;\n",
              "    }\n",
              "\n",
              "    [theme=dark] .colab-df-convert {\n",
              "      background-color: #3B4455;\n",
              "      fill: #D2E3FC;\n",
              "    }\n",
              "\n",
              "    [theme=dark] .colab-df-convert:hover {\n",
              "      background-color: #434B5C;\n",
              "      box-shadow: 0px 1px 3px 1px rgba(0, 0, 0, 0.15);\n",
              "      filter: drop-shadow(0px 1px 2px rgba(0, 0, 0, 0.3));\n",
              "      fill: #FFFFFF;\n",
              "    }\n",
              "  </style>\n",
              "\n",
              "      <script>\n",
              "        const buttonEl =\n",
              "          document.querySelector('#df-9315623b-0f13-49c0-a0d7-53e74fb3a9c3 button.colab-df-convert');\n",
              "        buttonEl.style.display =\n",
              "          google.colab.kernel.accessAllowed ? 'block' : 'none';\n",
              "\n",
              "        async function convertToInteractive(key) {\n",
              "          const element = document.querySelector('#df-9315623b-0f13-49c0-a0d7-53e74fb3a9c3');\n",
              "          const dataTable =\n",
              "            await google.colab.kernel.invokeFunction('convertToInteractive',\n",
              "                                                     [key], {});\n",
              "          if (!dataTable) return;\n",
              "\n",
              "          const docLinkHtml = 'Like what you see? Visit the ' +\n",
              "            '<a target=\"_blank\" href=https://colab.research.google.com/notebooks/data_table.ipynb>data table notebook</a>'\n",
              "            + ' to learn more about interactive tables.';\n",
              "          element.innerHTML = '';\n",
              "          dataTable['output_type'] = 'display_data';\n",
              "          await google.colab.output.renderOutput(dataTable, element);\n",
              "          const docLink = document.createElement('div');\n",
              "          docLink.innerHTML = docLinkHtml;\n",
              "          element.appendChild(docLink);\n",
              "        }\n",
              "      </script>\n",
              "    </div>\n",
              "  </div>\n",
              "  "
            ]
          },
          "metadata": {},
          "execution_count": 387
        }
      ]
    },
    {
      "cell_type": "code",
      "source": [
        "df.tail()"
      ],
      "metadata": {
        "colab": {
          "base_uri": "https://localhost:8080/",
          "height": 206
        },
        "id": "ARgtyW7hEijB",
        "outputId": "566a68e9-b262-4d56-bf39-edc6357ab0a3"
      },
      "execution_count": 388,
      "outputs": [
        {
          "output_type": "execute_result",
          "data": {
            "text/plain": [
              "     Pregnancies  Glucose  BloodPressure  SkinThickness  Insulin   BMI  \\\n",
              "763           10      101             76             48      180  32.9   \n",
              "764            2      122             70             27        0  36.8   \n",
              "765            5      121             72             23      112  26.2   \n",
              "766            1      126             60              0        0  30.1   \n",
              "767            1       93             70             31        0  30.4   \n",
              "\n",
              "     DiabetesPedigreeFunction  Age  Outcome  \n",
              "763                     0.171   63        0  \n",
              "764                     0.340   27        0  \n",
              "765                     0.245   30        0  \n",
              "766                     0.349   47        1  \n",
              "767                     0.315   23        0  "
            ],
            "text/html": [
              "\n",
              "  <div id=\"df-6b0dafb0-7427-40f3-97a5-7dcf915441d9\">\n",
              "    <div class=\"colab-df-container\">\n",
              "      <div>\n",
              "<style scoped>\n",
              "    .dataframe tbody tr th:only-of-type {\n",
              "        vertical-align: middle;\n",
              "    }\n",
              "\n",
              "    .dataframe tbody tr th {\n",
              "        vertical-align: top;\n",
              "    }\n",
              "\n",
              "    .dataframe thead th {\n",
              "        text-align: right;\n",
              "    }\n",
              "</style>\n",
              "<table border=\"1\" class=\"dataframe\">\n",
              "  <thead>\n",
              "    <tr style=\"text-align: right;\">\n",
              "      <th></th>\n",
              "      <th>Pregnancies</th>\n",
              "      <th>Glucose</th>\n",
              "      <th>BloodPressure</th>\n",
              "      <th>SkinThickness</th>\n",
              "      <th>Insulin</th>\n",
              "      <th>BMI</th>\n",
              "      <th>DiabetesPedigreeFunction</th>\n",
              "      <th>Age</th>\n",
              "      <th>Outcome</th>\n",
              "    </tr>\n",
              "  </thead>\n",
              "  <tbody>\n",
              "    <tr>\n",
              "      <th>763</th>\n",
              "      <td>10</td>\n",
              "      <td>101</td>\n",
              "      <td>76</td>\n",
              "      <td>48</td>\n",
              "      <td>180</td>\n",
              "      <td>32.9</td>\n",
              "      <td>0.171</td>\n",
              "      <td>63</td>\n",
              "      <td>0</td>\n",
              "    </tr>\n",
              "    <tr>\n",
              "      <th>764</th>\n",
              "      <td>2</td>\n",
              "      <td>122</td>\n",
              "      <td>70</td>\n",
              "      <td>27</td>\n",
              "      <td>0</td>\n",
              "      <td>36.8</td>\n",
              "      <td>0.340</td>\n",
              "      <td>27</td>\n",
              "      <td>0</td>\n",
              "    </tr>\n",
              "    <tr>\n",
              "      <th>765</th>\n",
              "      <td>5</td>\n",
              "      <td>121</td>\n",
              "      <td>72</td>\n",
              "      <td>23</td>\n",
              "      <td>112</td>\n",
              "      <td>26.2</td>\n",
              "      <td>0.245</td>\n",
              "      <td>30</td>\n",
              "      <td>0</td>\n",
              "    </tr>\n",
              "    <tr>\n",
              "      <th>766</th>\n",
              "      <td>1</td>\n",
              "      <td>126</td>\n",
              "      <td>60</td>\n",
              "      <td>0</td>\n",
              "      <td>0</td>\n",
              "      <td>30.1</td>\n",
              "      <td>0.349</td>\n",
              "      <td>47</td>\n",
              "      <td>1</td>\n",
              "    </tr>\n",
              "    <tr>\n",
              "      <th>767</th>\n",
              "      <td>1</td>\n",
              "      <td>93</td>\n",
              "      <td>70</td>\n",
              "      <td>31</td>\n",
              "      <td>0</td>\n",
              "      <td>30.4</td>\n",
              "      <td>0.315</td>\n",
              "      <td>23</td>\n",
              "      <td>0</td>\n",
              "    </tr>\n",
              "  </tbody>\n",
              "</table>\n",
              "</div>\n",
              "      <button class=\"colab-df-convert\" onclick=\"convertToInteractive('df-6b0dafb0-7427-40f3-97a5-7dcf915441d9')\"\n",
              "              title=\"Convert this dataframe to an interactive table.\"\n",
              "              style=\"display:none;\">\n",
              "        \n",
              "  <svg xmlns=\"http://www.w3.org/2000/svg\" height=\"24px\"viewBox=\"0 0 24 24\"\n",
              "       width=\"24px\">\n",
              "    <path d=\"M0 0h24v24H0V0z\" fill=\"none\"/>\n",
              "    <path d=\"M18.56 5.44l.94 2.06.94-2.06 2.06-.94-2.06-.94-.94-2.06-.94 2.06-2.06.94zm-11 1L8.5 8.5l.94-2.06 2.06-.94-2.06-.94L8.5 2.5l-.94 2.06-2.06.94zm10 10l.94 2.06.94-2.06 2.06-.94-2.06-.94-.94-2.06-.94 2.06-2.06.94z\"/><path d=\"M17.41 7.96l-1.37-1.37c-.4-.4-.92-.59-1.43-.59-.52 0-1.04.2-1.43.59L10.3 9.45l-7.72 7.72c-.78.78-.78 2.05 0 2.83L4 21.41c.39.39.9.59 1.41.59.51 0 1.02-.2 1.41-.59l7.78-7.78 2.81-2.81c.8-.78.8-2.07 0-2.86zM5.41 20L4 18.59l7.72-7.72 1.47 1.35L5.41 20z\"/>\n",
              "  </svg>\n",
              "      </button>\n",
              "      \n",
              "  <style>\n",
              "    .colab-df-container {\n",
              "      display:flex;\n",
              "      flex-wrap:wrap;\n",
              "      gap: 12px;\n",
              "    }\n",
              "\n",
              "    .colab-df-convert {\n",
              "      background-color: #E8F0FE;\n",
              "      border: none;\n",
              "      border-radius: 50%;\n",
              "      cursor: pointer;\n",
              "      display: none;\n",
              "      fill: #1967D2;\n",
              "      height: 32px;\n",
              "      padding: 0 0 0 0;\n",
              "      width: 32px;\n",
              "    }\n",
              "\n",
              "    .colab-df-convert:hover {\n",
              "      background-color: #E2EBFA;\n",
              "      box-shadow: 0px 1px 2px rgba(60, 64, 67, 0.3), 0px 1px 3px 1px rgba(60, 64, 67, 0.15);\n",
              "      fill: #174EA6;\n",
              "    }\n",
              "\n",
              "    [theme=dark] .colab-df-convert {\n",
              "      background-color: #3B4455;\n",
              "      fill: #D2E3FC;\n",
              "    }\n",
              "\n",
              "    [theme=dark] .colab-df-convert:hover {\n",
              "      background-color: #434B5C;\n",
              "      box-shadow: 0px 1px 3px 1px rgba(0, 0, 0, 0.15);\n",
              "      filter: drop-shadow(0px 1px 2px rgba(0, 0, 0, 0.3));\n",
              "      fill: #FFFFFF;\n",
              "    }\n",
              "  </style>\n",
              "\n",
              "      <script>\n",
              "        const buttonEl =\n",
              "          document.querySelector('#df-6b0dafb0-7427-40f3-97a5-7dcf915441d9 button.colab-df-convert');\n",
              "        buttonEl.style.display =\n",
              "          google.colab.kernel.accessAllowed ? 'block' : 'none';\n",
              "\n",
              "        async function convertToInteractive(key) {\n",
              "          const element = document.querySelector('#df-6b0dafb0-7427-40f3-97a5-7dcf915441d9');\n",
              "          const dataTable =\n",
              "            await google.colab.kernel.invokeFunction('convertToInteractive',\n",
              "                                                     [key], {});\n",
              "          if (!dataTable) return;\n",
              "\n",
              "          const docLinkHtml = 'Like what you see? Visit the ' +\n",
              "            '<a target=\"_blank\" href=https://colab.research.google.com/notebooks/data_table.ipynb>data table notebook</a>'\n",
              "            + ' to learn more about interactive tables.';\n",
              "          element.innerHTML = '';\n",
              "          dataTable['output_type'] = 'display_data';\n",
              "          await google.colab.output.renderOutput(dataTable, element);\n",
              "          const docLink = document.createElement('div');\n",
              "          docLink.innerHTML = docLinkHtml;\n",
              "          element.appendChild(docLink);\n",
              "        }\n",
              "      </script>\n",
              "    </div>\n",
              "  </div>\n",
              "  "
            ]
          },
          "metadata": {},
          "execution_count": 388
        }
      ]
    },
    {
      "cell_type": "code",
      "source": [
        "df.sample(5)"
      ],
      "metadata": {
        "colab": {
          "base_uri": "https://localhost:8080/",
          "height": 206
        },
        "id": "oxUAtZptEiov",
        "outputId": "0da05fe5-63aa-4b3c-ecb3-8443db868a17"
      },
      "execution_count": 389,
      "outputs": [
        {
          "output_type": "execute_result",
          "data": {
            "text/plain": [
              "     Pregnancies  Glucose  BloodPressure  SkinThickness  Insulin   BMI  \\\n",
              "275            2      100             70             52       57  40.5   \n",
              "602            1      124             74             36        0  27.8   \n",
              "696            3      169             74             19      125  29.9   \n",
              "212            7      179             95             31        0  34.2   \n",
              "638            7       97             76             32       91  40.9   \n",
              "\n",
              "     DiabetesPedigreeFunction  Age  Outcome  \n",
              "275                     0.677   25        0  \n",
              "602                     0.100   30        0  \n",
              "696                     0.268   31        1  \n",
              "212                     0.164   60        0  \n",
              "638                     0.871   32        1  "
            ],
            "text/html": [
              "\n",
              "  <div id=\"df-0416959f-deec-42b9-9e6a-1a700ea38c76\">\n",
              "    <div class=\"colab-df-container\">\n",
              "      <div>\n",
              "<style scoped>\n",
              "    .dataframe tbody tr th:only-of-type {\n",
              "        vertical-align: middle;\n",
              "    }\n",
              "\n",
              "    .dataframe tbody tr th {\n",
              "        vertical-align: top;\n",
              "    }\n",
              "\n",
              "    .dataframe thead th {\n",
              "        text-align: right;\n",
              "    }\n",
              "</style>\n",
              "<table border=\"1\" class=\"dataframe\">\n",
              "  <thead>\n",
              "    <tr style=\"text-align: right;\">\n",
              "      <th></th>\n",
              "      <th>Pregnancies</th>\n",
              "      <th>Glucose</th>\n",
              "      <th>BloodPressure</th>\n",
              "      <th>SkinThickness</th>\n",
              "      <th>Insulin</th>\n",
              "      <th>BMI</th>\n",
              "      <th>DiabetesPedigreeFunction</th>\n",
              "      <th>Age</th>\n",
              "      <th>Outcome</th>\n",
              "    </tr>\n",
              "  </thead>\n",
              "  <tbody>\n",
              "    <tr>\n",
              "      <th>275</th>\n",
              "      <td>2</td>\n",
              "      <td>100</td>\n",
              "      <td>70</td>\n",
              "      <td>52</td>\n",
              "      <td>57</td>\n",
              "      <td>40.5</td>\n",
              "      <td>0.677</td>\n",
              "      <td>25</td>\n",
              "      <td>0</td>\n",
              "    </tr>\n",
              "    <tr>\n",
              "      <th>602</th>\n",
              "      <td>1</td>\n",
              "      <td>124</td>\n",
              "      <td>74</td>\n",
              "      <td>36</td>\n",
              "      <td>0</td>\n",
              "      <td>27.8</td>\n",
              "      <td>0.100</td>\n",
              "      <td>30</td>\n",
              "      <td>0</td>\n",
              "    </tr>\n",
              "    <tr>\n",
              "      <th>696</th>\n",
              "      <td>3</td>\n",
              "      <td>169</td>\n",
              "      <td>74</td>\n",
              "      <td>19</td>\n",
              "      <td>125</td>\n",
              "      <td>29.9</td>\n",
              "      <td>0.268</td>\n",
              "      <td>31</td>\n",
              "      <td>1</td>\n",
              "    </tr>\n",
              "    <tr>\n",
              "      <th>212</th>\n",
              "      <td>7</td>\n",
              "      <td>179</td>\n",
              "      <td>95</td>\n",
              "      <td>31</td>\n",
              "      <td>0</td>\n",
              "      <td>34.2</td>\n",
              "      <td>0.164</td>\n",
              "      <td>60</td>\n",
              "      <td>0</td>\n",
              "    </tr>\n",
              "    <tr>\n",
              "      <th>638</th>\n",
              "      <td>7</td>\n",
              "      <td>97</td>\n",
              "      <td>76</td>\n",
              "      <td>32</td>\n",
              "      <td>91</td>\n",
              "      <td>40.9</td>\n",
              "      <td>0.871</td>\n",
              "      <td>32</td>\n",
              "      <td>1</td>\n",
              "    </tr>\n",
              "  </tbody>\n",
              "</table>\n",
              "</div>\n",
              "      <button class=\"colab-df-convert\" onclick=\"convertToInteractive('df-0416959f-deec-42b9-9e6a-1a700ea38c76')\"\n",
              "              title=\"Convert this dataframe to an interactive table.\"\n",
              "              style=\"display:none;\">\n",
              "        \n",
              "  <svg xmlns=\"http://www.w3.org/2000/svg\" height=\"24px\"viewBox=\"0 0 24 24\"\n",
              "       width=\"24px\">\n",
              "    <path d=\"M0 0h24v24H0V0z\" fill=\"none\"/>\n",
              "    <path d=\"M18.56 5.44l.94 2.06.94-2.06 2.06-.94-2.06-.94-.94-2.06-.94 2.06-2.06.94zm-11 1L8.5 8.5l.94-2.06 2.06-.94-2.06-.94L8.5 2.5l-.94 2.06-2.06.94zm10 10l.94 2.06.94-2.06 2.06-.94-2.06-.94-.94-2.06-.94 2.06-2.06.94z\"/><path d=\"M17.41 7.96l-1.37-1.37c-.4-.4-.92-.59-1.43-.59-.52 0-1.04.2-1.43.59L10.3 9.45l-7.72 7.72c-.78.78-.78 2.05 0 2.83L4 21.41c.39.39.9.59 1.41.59.51 0 1.02-.2 1.41-.59l7.78-7.78 2.81-2.81c.8-.78.8-2.07 0-2.86zM5.41 20L4 18.59l7.72-7.72 1.47 1.35L5.41 20z\"/>\n",
              "  </svg>\n",
              "      </button>\n",
              "      \n",
              "  <style>\n",
              "    .colab-df-container {\n",
              "      display:flex;\n",
              "      flex-wrap:wrap;\n",
              "      gap: 12px;\n",
              "    }\n",
              "\n",
              "    .colab-df-convert {\n",
              "      background-color: #E8F0FE;\n",
              "      border: none;\n",
              "      border-radius: 50%;\n",
              "      cursor: pointer;\n",
              "      display: none;\n",
              "      fill: #1967D2;\n",
              "      height: 32px;\n",
              "      padding: 0 0 0 0;\n",
              "      width: 32px;\n",
              "    }\n",
              "\n",
              "    .colab-df-convert:hover {\n",
              "      background-color: #E2EBFA;\n",
              "      box-shadow: 0px 1px 2px rgba(60, 64, 67, 0.3), 0px 1px 3px 1px rgba(60, 64, 67, 0.15);\n",
              "      fill: #174EA6;\n",
              "    }\n",
              "\n",
              "    [theme=dark] .colab-df-convert {\n",
              "      background-color: #3B4455;\n",
              "      fill: #D2E3FC;\n",
              "    }\n",
              "\n",
              "    [theme=dark] .colab-df-convert:hover {\n",
              "      background-color: #434B5C;\n",
              "      box-shadow: 0px 1px 3px 1px rgba(0, 0, 0, 0.15);\n",
              "      filter: drop-shadow(0px 1px 2px rgba(0, 0, 0, 0.3));\n",
              "      fill: #FFFFFF;\n",
              "    }\n",
              "  </style>\n",
              "\n",
              "      <script>\n",
              "        const buttonEl =\n",
              "          document.querySelector('#df-0416959f-deec-42b9-9e6a-1a700ea38c76 button.colab-df-convert');\n",
              "        buttonEl.style.display =\n",
              "          google.colab.kernel.accessAllowed ? 'block' : 'none';\n",
              "\n",
              "        async function convertToInteractive(key) {\n",
              "          const element = document.querySelector('#df-0416959f-deec-42b9-9e6a-1a700ea38c76');\n",
              "          const dataTable =\n",
              "            await google.colab.kernel.invokeFunction('convertToInteractive',\n",
              "                                                     [key], {});\n",
              "          if (!dataTable) return;\n",
              "\n",
              "          const docLinkHtml = 'Like what you see? Visit the ' +\n",
              "            '<a target=\"_blank\" href=https://colab.research.google.com/notebooks/data_table.ipynb>data table notebook</a>'\n",
              "            + ' to learn more about interactive tables.';\n",
              "          element.innerHTML = '';\n",
              "          dataTable['output_type'] = 'display_data';\n",
              "          await google.colab.output.renderOutput(dataTable, element);\n",
              "          const docLink = document.createElement('div');\n",
              "          docLink.innerHTML = docLinkHtml;\n",
              "          element.appendChild(docLink);\n",
              "        }\n",
              "      </script>\n",
              "    </div>\n",
              "  </div>\n",
              "  "
            ]
          },
          "metadata": {},
          "execution_count": 389
        }
      ]
    },
    {
      "cell_type": "code",
      "source": [
        "df.shape"
      ],
      "metadata": {
        "colab": {
          "base_uri": "https://localhost:8080/"
        },
        "id": "Z9f_sFDpFQPf",
        "outputId": "7c353ab7-4dcc-48d0-fa5e-2fc7658260c7"
      },
      "execution_count": 390,
      "outputs": [
        {
          "output_type": "execute_result",
          "data": {
            "text/plain": [
              "(768, 9)"
            ]
          },
          "metadata": {},
          "execution_count": 390
        }
      ]
    },
    {
      "cell_type": "code",
      "source": [
        "df.dtypes"
      ],
      "metadata": {
        "colab": {
          "base_uri": "https://localhost:8080/"
        },
        "id": "n9LNfLdtFXih",
        "outputId": "c00531cf-ef60-40e7-de49-fad1fbfcf2a1"
      },
      "execution_count": 391,
      "outputs": [
        {
          "output_type": "execute_result",
          "data": {
            "text/plain": [
              "Pregnancies                   int64\n",
              "Glucose                       int64\n",
              "BloodPressure                 int64\n",
              "SkinThickness                 int64\n",
              "Insulin                       int64\n",
              "BMI                         float64\n",
              "DiabetesPedigreeFunction    float64\n",
              "Age                           int64\n",
              "Outcome                       int64\n",
              "dtype: object"
            ]
          },
          "metadata": {},
          "execution_count": 391
        }
      ]
    },
    {
      "cell_type": "code",
      "source": [
        "df.info()"
      ],
      "metadata": {
        "colab": {
          "base_uri": "https://localhost:8080/"
        },
        "id": "BKl_u0oRFcuR",
        "outputId": "2885322a-645b-4c60-f8a0-5e32c678a58f"
      },
      "execution_count": 392,
      "outputs": [
        {
          "output_type": "stream",
          "name": "stdout",
          "text": [
            "<class 'pandas.core.frame.DataFrame'>\n",
            "RangeIndex: 768 entries, 0 to 767\n",
            "Data columns (total 9 columns):\n",
            " #   Column                    Non-Null Count  Dtype  \n",
            "---  ------                    --------------  -----  \n",
            " 0   Pregnancies               768 non-null    int64  \n",
            " 1   Glucose                   768 non-null    int64  \n",
            " 2   BloodPressure             768 non-null    int64  \n",
            " 3   SkinThickness             768 non-null    int64  \n",
            " 4   Insulin                   768 non-null    int64  \n",
            " 5   BMI                       768 non-null    float64\n",
            " 6   DiabetesPedigreeFunction  768 non-null    float64\n",
            " 7   Age                       768 non-null    int64  \n",
            " 8   Outcome                   768 non-null    int64  \n",
            "dtypes: float64(2), int64(7)\n",
            "memory usage: 54.1 KB\n"
          ]
        }
      ]
    },
    {
      "cell_type": "code",
      "source": [
        "df.describe()"
      ],
      "metadata": {
        "colab": {
          "base_uri": "https://localhost:8080/",
          "height": 300
        },
        "id": "a5w4_x0oFsqm",
        "outputId": "9068f4a6-f1ae-4815-a2d8-5ccdd0ab0a9b"
      },
      "execution_count": 393,
      "outputs": [
        {
          "output_type": "execute_result",
          "data": {
            "text/plain": [
              "       Pregnancies     Glucose  BloodPressure  SkinThickness     Insulin  \\\n",
              "count   768.000000  768.000000     768.000000     768.000000  768.000000   \n",
              "mean      3.845052  120.894531      69.105469      20.536458   79.799479   \n",
              "std       3.369578   31.972618      19.355807      15.952218  115.244002   \n",
              "min       0.000000    0.000000       0.000000       0.000000    0.000000   \n",
              "25%       1.000000   99.000000      62.000000       0.000000    0.000000   \n",
              "50%       3.000000  117.000000      72.000000      23.000000   30.500000   \n",
              "75%       6.000000  140.250000      80.000000      32.000000  127.250000   \n",
              "max      17.000000  199.000000     122.000000      99.000000  846.000000   \n",
              "\n",
              "              BMI  DiabetesPedigreeFunction         Age     Outcome  \n",
              "count  768.000000                768.000000  768.000000  768.000000  \n",
              "mean    31.992578                  0.471876   33.240885    0.348958  \n",
              "std      7.884160                  0.331329   11.760232    0.476951  \n",
              "min      0.000000                  0.078000   21.000000    0.000000  \n",
              "25%     27.300000                  0.243750   24.000000    0.000000  \n",
              "50%     32.000000                  0.372500   29.000000    0.000000  \n",
              "75%     36.600000                  0.626250   41.000000    1.000000  \n",
              "max     67.100000                  2.420000   81.000000    1.000000  "
            ],
            "text/html": [
              "\n",
              "  <div id=\"df-293753d9-baf2-459e-becf-3d1e12d1b1c5\">\n",
              "    <div class=\"colab-df-container\">\n",
              "      <div>\n",
              "<style scoped>\n",
              "    .dataframe tbody tr th:only-of-type {\n",
              "        vertical-align: middle;\n",
              "    }\n",
              "\n",
              "    .dataframe tbody tr th {\n",
              "        vertical-align: top;\n",
              "    }\n",
              "\n",
              "    .dataframe thead th {\n",
              "        text-align: right;\n",
              "    }\n",
              "</style>\n",
              "<table border=\"1\" class=\"dataframe\">\n",
              "  <thead>\n",
              "    <tr style=\"text-align: right;\">\n",
              "      <th></th>\n",
              "      <th>Pregnancies</th>\n",
              "      <th>Glucose</th>\n",
              "      <th>BloodPressure</th>\n",
              "      <th>SkinThickness</th>\n",
              "      <th>Insulin</th>\n",
              "      <th>BMI</th>\n",
              "      <th>DiabetesPedigreeFunction</th>\n",
              "      <th>Age</th>\n",
              "      <th>Outcome</th>\n",
              "    </tr>\n",
              "  </thead>\n",
              "  <tbody>\n",
              "    <tr>\n",
              "      <th>count</th>\n",
              "      <td>768.000000</td>\n",
              "      <td>768.000000</td>\n",
              "      <td>768.000000</td>\n",
              "      <td>768.000000</td>\n",
              "      <td>768.000000</td>\n",
              "      <td>768.000000</td>\n",
              "      <td>768.000000</td>\n",
              "      <td>768.000000</td>\n",
              "      <td>768.000000</td>\n",
              "    </tr>\n",
              "    <tr>\n",
              "      <th>mean</th>\n",
              "      <td>3.845052</td>\n",
              "      <td>120.894531</td>\n",
              "      <td>69.105469</td>\n",
              "      <td>20.536458</td>\n",
              "      <td>79.799479</td>\n",
              "      <td>31.992578</td>\n",
              "      <td>0.471876</td>\n",
              "      <td>33.240885</td>\n",
              "      <td>0.348958</td>\n",
              "    </tr>\n",
              "    <tr>\n",
              "      <th>std</th>\n",
              "      <td>3.369578</td>\n",
              "      <td>31.972618</td>\n",
              "      <td>19.355807</td>\n",
              "      <td>15.952218</td>\n",
              "      <td>115.244002</td>\n",
              "      <td>7.884160</td>\n",
              "      <td>0.331329</td>\n",
              "      <td>11.760232</td>\n",
              "      <td>0.476951</td>\n",
              "    </tr>\n",
              "    <tr>\n",
              "      <th>min</th>\n",
              "      <td>0.000000</td>\n",
              "      <td>0.000000</td>\n",
              "      <td>0.000000</td>\n",
              "      <td>0.000000</td>\n",
              "      <td>0.000000</td>\n",
              "      <td>0.000000</td>\n",
              "      <td>0.078000</td>\n",
              "      <td>21.000000</td>\n",
              "      <td>0.000000</td>\n",
              "    </tr>\n",
              "    <tr>\n",
              "      <th>25%</th>\n",
              "      <td>1.000000</td>\n",
              "      <td>99.000000</td>\n",
              "      <td>62.000000</td>\n",
              "      <td>0.000000</td>\n",
              "      <td>0.000000</td>\n",
              "      <td>27.300000</td>\n",
              "      <td>0.243750</td>\n",
              "      <td>24.000000</td>\n",
              "      <td>0.000000</td>\n",
              "    </tr>\n",
              "    <tr>\n",
              "      <th>50%</th>\n",
              "      <td>3.000000</td>\n",
              "      <td>117.000000</td>\n",
              "      <td>72.000000</td>\n",
              "      <td>23.000000</td>\n",
              "      <td>30.500000</td>\n",
              "      <td>32.000000</td>\n",
              "      <td>0.372500</td>\n",
              "      <td>29.000000</td>\n",
              "      <td>0.000000</td>\n",
              "    </tr>\n",
              "    <tr>\n",
              "      <th>75%</th>\n",
              "      <td>6.000000</td>\n",
              "      <td>140.250000</td>\n",
              "      <td>80.000000</td>\n",
              "      <td>32.000000</td>\n",
              "      <td>127.250000</td>\n",
              "      <td>36.600000</td>\n",
              "      <td>0.626250</td>\n",
              "      <td>41.000000</td>\n",
              "      <td>1.000000</td>\n",
              "    </tr>\n",
              "    <tr>\n",
              "      <th>max</th>\n",
              "      <td>17.000000</td>\n",
              "      <td>199.000000</td>\n",
              "      <td>122.000000</td>\n",
              "      <td>99.000000</td>\n",
              "      <td>846.000000</td>\n",
              "      <td>67.100000</td>\n",
              "      <td>2.420000</td>\n",
              "      <td>81.000000</td>\n",
              "      <td>1.000000</td>\n",
              "    </tr>\n",
              "  </tbody>\n",
              "</table>\n",
              "</div>\n",
              "      <button class=\"colab-df-convert\" onclick=\"convertToInteractive('df-293753d9-baf2-459e-becf-3d1e12d1b1c5')\"\n",
              "              title=\"Convert this dataframe to an interactive table.\"\n",
              "              style=\"display:none;\">\n",
              "        \n",
              "  <svg xmlns=\"http://www.w3.org/2000/svg\" height=\"24px\"viewBox=\"0 0 24 24\"\n",
              "       width=\"24px\">\n",
              "    <path d=\"M0 0h24v24H0V0z\" fill=\"none\"/>\n",
              "    <path d=\"M18.56 5.44l.94 2.06.94-2.06 2.06-.94-2.06-.94-.94-2.06-.94 2.06-2.06.94zm-11 1L8.5 8.5l.94-2.06 2.06-.94-2.06-.94L8.5 2.5l-.94 2.06-2.06.94zm10 10l.94 2.06.94-2.06 2.06-.94-2.06-.94-.94-2.06-.94 2.06-2.06.94z\"/><path d=\"M17.41 7.96l-1.37-1.37c-.4-.4-.92-.59-1.43-.59-.52 0-1.04.2-1.43.59L10.3 9.45l-7.72 7.72c-.78.78-.78 2.05 0 2.83L4 21.41c.39.39.9.59 1.41.59.51 0 1.02-.2 1.41-.59l7.78-7.78 2.81-2.81c.8-.78.8-2.07 0-2.86zM5.41 20L4 18.59l7.72-7.72 1.47 1.35L5.41 20z\"/>\n",
              "  </svg>\n",
              "      </button>\n",
              "      \n",
              "  <style>\n",
              "    .colab-df-container {\n",
              "      display:flex;\n",
              "      flex-wrap:wrap;\n",
              "      gap: 12px;\n",
              "    }\n",
              "\n",
              "    .colab-df-convert {\n",
              "      background-color: #E8F0FE;\n",
              "      border: none;\n",
              "      border-radius: 50%;\n",
              "      cursor: pointer;\n",
              "      display: none;\n",
              "      fill: #1967D2;\n",
              "      height: 32px;\n",
              "      padding: 0 0 0 0;\n",
              "      width: 32px;\n",
              "    }\n",
              "\n",
              "    .colab-df-convert:hover {\n",
              "      background-color: #E2EBFA;\n",
              "      box-shadow: 0px 1px 2px rgba(60, 64, 67, 0.3), 0px 1px 3px 1px rgba(60, 64, 67, 0.15);\n",
              "      fill: #174EA6;\n",
              "    }\n",
              "\n",
              "    [theme=dark] .colab-df-convert {\n",
              "      background-color: #3B4455;\n",
              "      fill: #D2E3FC;\n",
              "    }\n",
              "\n",
              "    [theme=dark] .colab-df-convert:hover {\n",
              "      background-color: #434B5C;\n",
              "      box-shadow: 0px 1px 3px 1px rgba(0, 0, 0, 0.15);\n",
              "      filter: drop-shadow(0px 1px 2px rgba(0, 0, 0, 0.3));\n",
              "      fill: #FFFFFF;\n",
              "    }\n",
              "  </style>\n",
              "\n",
              "      <script>\n",
              "        const buttonEl =\n",
              "          document.querySelector('#df-293753d9-baf2-459e-becf-3d1e12d1b1c5 button.colab-df-convert');\n",
              "        buttonEl.style.display =\n",
              "          google.colab.kernel.accessAllowed ? 'block' : 'none';\n",
              "\n",
              "        async function convertToInteractive(key) {\n",
              "          const element = document.querySelector('#df-293753d9-baf2-459e-becf-3d1e12d1b1c5');\n",
              "          const dataTable =\n",
              "            await google.colab.kernel.invokeFunction('convertToInteractive',\n",
              "                                                     [key], {});\n",
              "          if (!dataTable) return;\n",
              "\n",
              "          const docLinkHtml = 'Like what you see? Visit the ' +\n",
              "            '<a target=\"_blank\" href=https://colab.research.google.com/notebooks/data_table.ipynb>data table notebook</a>'\n",
              "            + ' to learn more about interactive tables.';\n",
              "          element.innerHTML = '';\n",
              "          dataTable['output_type'] = 'display_data';\n",
              "          await google.colab.output.renderOutput(dataTable, element);\n",
              "          const docLink = document.createElement('div');\n",
              "          docLink.innerHTML = docLinkHtml;\n",
              "          element.appendChild(docLink);\n",
              "        }\n",
              "      </script>\n",
              "    </div>\n",
              "  </div>\n",
              "  "
            ]
          },
          "metadata": {},
          "execution_count": 393
        }
      ]
    },
    {
      "cell_type": "code",
      "source": [
        "df = df.drop_duplicates()"
      ],
      "metadata": {
        "id": "hK6BOWO2GKFQ"
      },
      "execution_count": 394,
      "outputs": []
    },
    {
      "cell_type": "code",
      "source": [
        "df.shape"
      ],
      "metadata": {
        "colab": {
          "base_uri": "https://localhost:8080/"
        },
        "id": "K2ZKrrK9GVHh",
        "outputId": "7b9a9725-0bd0-4a7b-d7cb-c19a9227a112"
      },
      "execution_count": 395,
      "outputs": [
        {
          "output_type": "execute_result",
          "data": {
            "text/plain": [
              "(768, 9)"
            ]
          },
          "metadata": {},
          "execution_count": 395
        }
      ]
    },
    {
      "cell_type": "code",
      "source": [
        "df.columns"
      ],
      "metadata": {
        "colab": {
          "base_uri": "https://localhost:8080/"
        },
        "id": "M4SNSOcgF8KR",
        "outputId": "871ca611-d76f-4039-cccd-4d8c2f445603"
      },
      "execution_count": 396,
      "outputs": [
        {
          "output_type": "execute_result",
          "data": {
            "text/plain": [
              "Index(['Pregnancies', 'Glucose', 'BloodPressure', 'SkinThickness', 'Insulin',\n",
              "       'BMI', 'DiabetesPedigreeFunction', 'Age', 'Outcome'],\n",
              "      dtype='object')"
            ]
          },
          "metadata": {},
          "execution_count": 396
        }
      ]
    },
    {
      "cell_type": "code",
      "source": [
        "df.isnull().sum()"
      ],
      "metadata": {
        "colab": {
          "base_uri": "https://localhost:8080/"
        },
        "id": "7nlyGcQCSqzy",
        "outputId": "4300272a-7452-4303-c38e-15eb49167e1a"
      },
      "execution_count": 397,
      "outputs": [
        {
          "output_type": "execute_result",
          "data": {
            "text/plain": [
              "Pregnancies                 0\n",
              "Glucose                     0\n",
              "BloodPressure               0\n",
              "SkinThickness               0\n",
              "Insulin                     0\n",
              "BMI                         0\n",
              "DiabetesPedigreeFunction    0\n",
              "Age                         0\n",
              "Outcome                     0\n",
              "dtype: int64"
            ]
          },
          "metadata": {},
          "execution_count": 397
        }
      ]
    },
    {
      "cell_type": "markdown",
      "source": [
        "Here from the above code we first checked that is there any null values from the IsNull() function then we are going to take the sum of all those missing values from the sum() function and the inference we now get is that there are no missing values but that is actually not a true story as in this particular dataset all the missing values were given the 0 as a value which is not good for the authenticity of the dataset. "
      ],
      "metadata": {
        "id": "rJEaKJG6yOo5"
      }
    },
    {
      "cell_type": "code",
      "source": [
        "Glucose = df[df['Glucose']==0].shape[0]\n",
        "BloodPressure = df[df['BloodPressure']==0].shape[0]\n",
        "SkinThickness = df[df['SkinThickness']==0].shape[0]\n",
        "Insulin = df[df['Insulin']==0].shape[0]\n",
        "BMI = df[df['BMI']==0].shape[0]"
      ],
      "metadata": {
        "id": "JUx2CW-hUsvM"
      },
      "execution_count": 398,
      "outputs": []
    },
    {
      "cell_type": "code",
      "source": [
        "fig_original = plt.figure()\n",
        "ax = fig_original.add_axes([0,0,1,1])\n",
        "features = ['Glucose', 'BloodPressure', 'SkinThickness', 'Insulin', 'BMI']\n",
        "num = [Glucose, BloodPressure, SkinThickness, Insulin, BMI]\n",
        "ax.bar(features,num)\n",
        "plt.show()"
      ],
      "metadata": {
        "colab": {
          "base_uri": "https://localhost:8080/",
          "height": 336
        },
        "id": "2KmQXDg9sahP",
        "outputId": "93d69f66-38e2-4e5f-ac1f-b2f150e66b2b"
      },
      "execution_count": 399,
      "outputs": [
        {
          "output_type": "display_data",
          "data": {
            "text/plain": [
              "<Figure size 432x288 with 1 Axes>"
            ],
            "image/png": "[encoded data removed]"
          },
          "metadata": {
            "needs_background": "light"
          }
        }
      ]
    },
    {
      "cell_type": "code",
      "source": [
        "p =df.hist(figsize = (20,20))\n",
        "#*it shows the occurrence of every kind of value in the graphical structure which in turn lets us know the range of the data."
      ],
      "metadata": {
        "colab": {
          "base_uri": "https://localhost:8080/",
          "height": 1000
        },
        "id": "NV4fB0oI1kgd",
        "outputId": "205f105d-dd90-47af-e4a7-bb344d90f502"
      },
      "execution_count": 400,
      "outputs": [
        {
          "output_type": "display_data",
          "data": {
            "text/plain": [
              "<Figure size 1440x1440 with 9 Axes>"
            ],
            "image/png": "[encoded data removed]"
          },
          "metadata": {
            "needs_background": "light"
          }
        }
      ]
    },
    {
      "cell_type": "code",
      "source": [
        "df['Glucose'] = df['Glucose'].replace(0, df['Glucose'].mean())\n",
        "print('Number of zero values in Glucose', df[df['Glucose']==0].shape[0])"
      ],
      "metadata": {
        "colab": {
          "base_uri": "https://localhost:8080/"
        },
        "id": "MYTLbhKav3f5",
        "outputId": "53ae0bd0-aa30-490f-ee4b-54b654c38f03"
      },
      "execution_count": 401,
      "outputs": [
        {
          "output_type": "stream",
          "name": "stdout",
          "text": [
            "Number of zero values in Glucose 0\n"
          ]
        }
      ]
    },
    {
      "cell_type": "code",
      "source": [
        "df['BloodPressure'] = df['BloodPressure'].replace(0, df['BloodPressure'].mean())\n",
        "df['SkinThickness'] = df['SkinThickness'].replace(0, df['SkinThickness'].mean())\n",
        "df['Insulin'] = df['Insulin'].replace(0, df['Insulin'].mean())\n",
        "df['BMI'] = df['BMI'].replace(0, df['BMI'].mean())"
      ],
      "metadata": {
        "id": "LR8Omo8httZ5"
      },
      "execution_count": 402,
      "outputs": []
    },
    {
      "cell_type": "code",
      "source": [
        "p1 = df.hist(figsize = (20,20))"
      ],
      "metadata": {
        "colab": {
          "base_uri": "https://localhost:8080/",
          "height": 1000
        },
        "id": "jzHRbw7-16Jk",
        "outputId": "d10b9384-5000-47b1-f642-e6c2c5c3bbe2"
      },
      "execution_count": 403,
      "outputs": [
        {
          "output_type": "display_data",
          "data": {
            "text/plain": [
              "<Figure size 1440x1440 with 9 Axes>"
            ],
            "image/png": "[encoded data removed]"
          },
          "metadata": {
            "needs_background": "light"
          }
        }
      ]
    },
    {
      "cell_type": "markdown",
      "source": [
        "Here we are again using the hist plot to see the distribution of the dataset but this time we are using this visualization to see the changes that we can see after those null values are removed from the dataset and we can clearly see the difference for example –** In age column after removal of the null values, we can see that there is a spike at the range of 50 to 100 which is quite logical as well** "
      ],
      "metadata": {
        "id": "g4VHxMTUj2TS"
      }
    },
    {
      "cell_type": "code",
      "source": [
        "df.describe()"
      ],
      "metadata": {
        "colab": {
          "base_uri": "https://localhost:8080/",
          "height": 300
        },
        "id": "kA7SZyw5vOU5",
        "outputId": "f8aa1738-17b7-4ecd-e1f7-3973e9be9541"
      },
      "execution_count": 404,
      "outputs": [
        {
          "output_type": "execute_result",
          "data": {
            "text/plain": [
              "       Pregnancies     Glucose  BloodPressure  SkinThickness     Insulin  \\\n",
              "count   768.000000  768.000000     768.000000     768.000000  768.000000   \n",
              "mean      3.845052  121.681605      72.254807      26.606479  118.660163   \n",
              "std       3.369578   30.436016      12.115932       9.631241   93.080358   \n",
              "min       0.000000   44.000000      24.000000       7.000000   14.000000   \n",
              "25%       1.000000   99.750000      64.000000      20.536458   79.799479   \n",
              "50%       3.000000  117.000000      72.000000      23.000000   79.799479   \n",
              "75%       6.000000  140.250000      80.000000      32.000000  127.250000   \n",
              "max      17.000000  199.000000     122.000000      99.000000  846.000000   \n",
              "\n",
              "              BMI  DiabetesPedigreeFunction         Age     Outcome  \n",
              "count  768.000000                768.000000  768.000000  768.000000  \n",
              "mean    32.450805                  0.471876   33.240885    0.348958  \n",
              "std      6.875374                  0.331329   11.760232    0.476951  \n",
              "min     18.200000                  0.078000   21.000000    0.000000  \n",
              "25%     27.500000                  0.243750   24.000000    0.000000  \n",
              "50%     32.000000                  0.372500   29.000000    0.000000  \n",
              "75%     36.600000                  0.626250   41.000000    1.000000  \n",
              "max     67.100000                  2.420000   81.000000    1.000000  "
            ],
            "text/html": [
              "\n",
              "  <div id=\"df-6802f24f-764b-4370-9df2-a6ed36293c4d\">\n",
              "    <div class=\"colab-df-container\">\n",
              "      <div>\n",
              "<style scoped>\n",
              "    .dataframe tbody tr th:only-of-type {\n",
              "        vertical-align: middle;\n",
              "    }\n",
              "\n",
              "    .dataframe tbody tr th {\n",
              "        vertical-align: top;\n",
              "    }\n",
              "\n",
              "    .dataframe thead th {\n",
              "        text-align: right;\n",
              "    }\n",
              "</style>\n",
              "<table border=\"1\" class=\"dataframe\">\n",
              "  <thead>\n",
              "    <tr style=\"text-align: right;\">\n",
              "      <th></th>\n",
              "      <th>Pregnancies</th>\n",
              "      <th>Glucose</th>\n",
              "      <th>BloodPressure</th>\n",
              "      <th>SkinThickness</th>\n",
              "      <th>Insulin</th>\n",
              "      <th>BMI</th>\n",
              "      <th>DiabetesPedigreeFunction</th>\n",
              "      <th>Age</th>\n",
              "      <th>Outcome</th>\n",
              "    </tr>\n",
              "  </thead>\n",
              "  <tbody>\n",
              "    <tr>\n",
              "      <th>count</th>\n",
              "      <td>768.000000</td>\n",
              "      <td>768.000000</td>\n",
              "      <td>768.000000</td>\n",
              "      <td>768.000000</td>\n",
              "      <td>768.000000</td>\n",
              "      <td>768.000000</td>\n",
              "      <td>768.000000</td>\n",
              "      <td>768.000000</td>\n",
              "      <td>768.000000</td>\n",
              "    </tr>\n",
              "    <tr>\n",
              "      <th>mean</th>\n",
              "      <td>3.845052</td>\n",
              "      <td>121.681605</td>\n",
              "      <td>72.254807</td>\n",
              "      <td>26.606479</td>\n",
              "      <td>118.660163</td>\n",
              "      <td>32.450805</td>\n",
              "      <td>0.471876</td>\n",
              "      <td>33.240885</td>\n",
              "      <td>0.348958</td>\n",
              "    </tr>\n",
              "    <tr>\n",
              "      <th>std</th>\n",
              "      <td>3.369578</td>\n",
              "      <td>30.436016</td>\n",
              "      <td>12.115932</td>\n",
              "      <td>9.631241</td>\n",
              "      <td>93.080358</td>\n",
              "      <td>6.875374</td>\n",
              "      <td>0.331329</td>\n",
              "      <td>11.760232</td>\n",
              "      <td>0.476951</td>\n",
              "    </tr>\n",
              "    <tr>\n",
              "      <th>min</th>\n",
              "      <td>0.000000</td>\n",
              "      <td>44.000000</td>\n",
              "      <td>24.000000</td>\n",
              "      <td>7.000000</td>\n",
              "      <td>14.000000</td>\n",
              "      <td>18.200000</td>\n",
              "      <td>0.078000</td>\n",
              "      <td>21.000000</td>\n",
              "      <td>0.000000</td>\n",
              "    </tr>\n",
              "    <tr>\n",
              "      <th>25%</th>\n",
              "      <td>1.000000</td>\n",
              "      <td>99.750000</td>\n",
              "      <td>64.000000</td>\n",
              "      <td>20.536458</td>\n",
              "      <td>79.799479</td>\n",
              "      <td>27.500000</td>\n",
              "      <td>0.243750</td>\n",
              "      <td>24.000000</td>\n",
              "      <td>0.000000</td>\n",
              "    </tr>\n",
              "    <tr>\n",
              "      <th>50%</th>\n",
              "      <td>3.000000</td>\n",
              "      <td>117.000000</td>\n",
              "      <td>72.000000</td>\n",
              "      <td>23.000000</td>\n",
              "      <td>79.799479</td>\n",
              "      <td>32.000000</td>\n",
              "      <td>0.372500</td>\n",
              "      <td>29.000000</td>\n",
              "      <td>0.000000</td>\n",
              "    </tr>\n",
              "    <tr>\n",
              "      <th>75%</th>\n",
              "      <td>6.000000</td>\n",
              "      <td>140.250000</td>\n",
              "      <td>80.000000</td>\n",
              "      <td>32.000000</td>\n",
              "      <td>127.250000</td>\n",
              "      <td>36.600000</td>\n",
              "      <td>0.626250</td>\n",
              "      <td>41.000000</td>\n",
              "      <td>1.000000</td>\n",
              "    </tr>\n",
              "    <tr>\n",
              "      <th>max</th>\n",
              "      <td>17.000000</td>\n",
              "      <td>199.000000</td>\n",
              "      <td>122.000000</td>\n",
              "      <td>99.000000</td>\n",
              "      <td>846.000000</td>\n",
              "      <td>67.100000</td>\n",
              "      <td>2.420000</td>\n",
              "      <td>81.000000</td>\n",
              "      <td>1.000000</td>\n",
              "    </tr>\n",
              "  </tbody>\n",
              "</table>\n",
              "</div>\n",
              "      <button class=\"colab-df-convert\" onclick=\"convertToInteractive('df-6802f24f-764b-4370-9df2-a6ed36293c4d')\"\n",
              "              title=\"Convert this dataframe to an interactive table.\"\n",
              "              style=\"display:none;\">\n",
              "        \n",
              "  <svg xmlns=\"http://www.w3.org/2000/svg\" height=\"24px\"viewBox=\"0 0 24 24\"\n",
              "       width=\"24px\">\n",
              "    <path d=\"M0 0h24v24H0V0z\" fill=\"none\"/>\n",
              "    <path d=\"M18.56 5.44l.94 2.06.94-2.06 2.06-.94-2.06-.94-.94-2.06-.94 2.06-2.06.94zm-11 1L8.5 8.5l.94-2.06 2.06-.94-2.06-.94L8.5 2.5l-.94 2.06-2.06.94zm10 10l.94 2.06.94-2.06 2.06-.94-2.06-.94-.94-2.06-.94 2.06-2.06.94z\"/><path d=\"M17.41 7.96l-1.37-1.37c-.4-.4-.92-.59-1.43-.59-.52 0-1.04.2-1.43.59L10.3 9.45l-7.72 7.72c-.78.78-.78 2.05 0 2.83L4 21.41c.39.39.9.59 1.41.59.51 0 1.02-.2 1.41-.59l7.78-7.78 2.81-2.81c.8-.78.8-2.07 0-2.86zM5.41 20L4 18.59l7.72-7.72 1.47 1.35L5.41 20z\"/>\n",
              "  </svg>\n",
              "      </button>\n",
              "      \n",
              "  <style>\n",
              "    .colab-df-container {\n",
              "      display:flex;\n",
              "      flex-wrap:wrap;\n",
              "      gap: 12px;\n",
              "    }\n",
              "\n",
              "    .colab-df-convert {\n",
              "      background-color: #E8F0FE;\n",
              "      border: none;\n",
              "      border-radius: 50%;\n",
              "      cursor: pointer;\n",
              "      display: none;\n",
              "      fill: #1967D2;\n",
              "      height: 32px;\n",
              "      padding: 0 0 0 0;\n",
              "      width: 32px;\n",
              "    }\n",
              "\n",
              "    .colab-df-convert:hover {\n",
              "      background-color: #E2EBFA;\n",
              "      box-shadow: 0px 1px 2px rgba(60, 64, 67, 0.3), 0px 1px 3px 1px rgba(60, 64, 67, 0.15);\n",
              "      fill: #174EA6;\n",
              "    }\n",
              "\n",
              "    [theme=dark] .colab-df-convert {\n",
              "      background-color: #3B4455;\n",
              "      fill: #D2E3FC;\n",
              "    }\n",
              "\n",
              "    [theme=dark] .colab-df-convert:hover {\n",
              "      background-color: #434B5C;\n",
              "      box-shadow: 0px 1px 3px 1px rgba(0, 0, 0, 0.15);\n",
              "      filter: drop-shadow(0px 1px 2px rgba(0, 0, 0, 0.3));\n",
              "      fill: #FFFFFF;\n",
              "    }\n",
              "  </style>\n",
              "\n",
              "      <script>\n",
              "        const buttonEl =\n",
              "          document.querySelector('#df-6802f24f-764b-4370-9df2-a6ed36293c4d button.colab-df-convert');\n",
              "        buttonEl.style.display =\n",
              "          google.colab.kernel.accessAllowed ? 'block' : 'none';\n",
              "\n",
              "        async function convertToInteractive(key) {\n",
              "          const element = document.querySelector('#df-6802f24f-764b-4370-9df2-a6ed36293c4d');\n",
              "          const dataTable =\n",
              "            await google.colab.kernel.invokeFunction('convertToInteractive',\n",
              "                                                     [key], {});\n",
              "          if (!dataTable) return;\n",
              "\n",
              "          const docLinkHtml = 'Like what you see? Visit the ' +\n",
              "            '<a target=\"_blank\" href=https://colab.research.google.com/notebooks/data_table.ipynb>data table notebook</a>'\n",
              "            + ' to learn more about interactive tables.';\n",
              "          element.innerHTML = '';\n",
              "          dataTable['output_type'] = 'display_data';\n",
              "          await google.colab.output.renderOutput(dataTable, element);\n",
              "          const docLink = document.createElement('div');\n",
              "          docLink.innerHTML = docLinkHtml;\n",
              "          element.appendChild(docLink);\n",
              "        }\n",
              "      </script>\n",
              "    </div>\n",
              "  </div>\n",
              "  "
            ]
          },
          "metadata": {},
          "execution_count": 404
        }
      ]
    },
    {
      "cell_type": "code",
      "source": [
        "# Explore Pregnancies vs Outcome\n",
        "plt.figure(figsize=(13,6))\n",
        "g = sns.kdeplot(df[\"Pregnancies\"][df[\"Outcome\"] == 1], \n",
        "     color=\"Red\", shade = True)\n",
        "g = sns.kdeplot(df[\"Pregnancies\"][df[\"Outcome\"] == 0], \n",
        "     ax =g, color=\"Green\", shade= True)\n",
        "g.set_xlabel(\"Pregnancies\")\n",
        "g.set_ylabel(\"Frequency\")\n",
        "g.legend([\"Positive\",\"Negative\"])"
      ],
      "metadata": {
        "colab": {
          "base_uri": "https://localhost:8080/",
          "height": 405
        },
        "id": "7OEfavm0YpMF",
        "outputId": "a7d219ce-9c54-446e-e543-18b7307318ca"
      },
      "execution_count": 405,
      "outputs": [
        {
          "output_type": "execute_result",
          "data": {
            "text/plain": [
              "<matplotlib.legend.Legend at 0x7f68b51ed790>"
            ]
          },
          "metadata": {},
          "execution_count": 405
        },
        {
          "output_type": "display_data",
          "data": {
            "text/plain": [
              "<Figure size 936x432 with 1 Axes>"
            ],
            "image/png": "[encoded data removed]"
          },
          "metadata": {
            "needs_background": "light"
          }
        }
      ]
    },
    {
      "cell_type": "markdown",
      "source": [
        "Women with diabetes can and do have healthy pregnancies and healthy babies. Managing diabetes can help reduce your risk for complications. Untreated diabetes increases your risk for pregnancy complications, like high blood pressure, depression, premature birth, birth defects and pregnancy loss.\n",
        "\n"
      ],
      "metadata": {
        "id": "PBeyMiDuZPva"
      }
    },
    {
      "cell_type": "code",
      "source": [
        "color = {1: \"#0392cf\", 2: \"#7bc043\"}\n",
        "colors = df[\"Outcome\"].map(lambda x: color.get(x + 1))\n",
        "print(df.Outcome.value_counts())\n",
        "bal = df.Outcome.value_counts().plot(kind=\"bar\")"
      ],
      "metadata": {
        "colab": {
          "base_uri": "https://localhost:8080/",
          "height": 314
        },
        "id": "E0cfLwGhGPYc",
        "outputId": "22810096-6a56-4131-e082-4ad4e800c19a"
      },
      "execution_count": 406,
      "outputs": [
        {
          "output_type": "stream",
          "name": "stdout",
          "text": [
            "0    500\n",
            "1    268\n",
            "Name: Outcome, dtype: int64\n"
          ]
        },
        {
          "output_type": "display_data",
          "data": {
            "text/plain": [
              "<Figure size 432x288 with 1 Axes>"
            ],
            "image/png": "[encoded data removed]"
          },
          "metadata": {
            "needs_background": "light"
          }
        }
      ]
    },
    {
      "cell_type": "markdown",
      "source": [
        "Here from the above visualization it is clearly visible that our dataset is completely imbalanced in fact the number of patients who are diabetic is half of the patients who are non-diabetic."
      ],
      "metadata": {
        "id": "1z5MJmeVOOh9"
      }
    },
    {
      "cell_type": "markdown",
      "source": [
        "![image.png](data:image/png;base64,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)\n"
      ],
      "metadata": {
        "id": "BPVxeqwiOGJr"
      }
    },
    {
      "cell_type": "code",
      "source": [
        "plt.subplot(121), sns.distplot(df['BloodPressure'])\n",
        "plt.subplot(122), df['BloodPressure'].plot.box(figsize=(16,5))\n",
        "plt.show()"
      ],
      "metadata": {
        "colab": {
          "base_uri": "https://localhost:8080/",
          "height": 334
        },
        "id": "HtqZC7OaPFfX",
        "outputId": "ada11d46-deb5-4dea-a21f-f027591b8c03"
      },
      "execution_count": 407,
      "outputs": [
        {
          "output_type": "display_data",
          "data": {
            "text/plain": [
              "<Figure size 1152x360 with 2 Axes>"
            ],
            "image/png": "[encoded data removed]"
          },
          "metadata": {
            "needs_background": "light"
          }
        }
      ]
    },
    {
      "cell_type": "code",
      "source": [
        "from collections import Counter\n",
        "def detect_outliers(df,n,features):\n",
        "    outlier_indices = []\n",
        "    \n",
        "    # iterate over features(columns)\n",
        "    for col in features:\n",
        "        Q1 = np.percentile(df[col], 25)\n",
        "        Q3 = np.percentile(df[col],75)\n",
        "        IQR = Q3 - Q1\n",
        "        \n",
        "        # outlier step\n",
        "        outlier_step = 1.5 * IQR\n",
        "        \n",
        "        # Determine a list of indices of outliers for feature col\n",
        "        outlier_list_col = df[(df[col] < Q1 - outlier_step) | (df[col] > Q3 + outlier_step )].index\n",
        "        \n",
        "        # append the found outlier indices for col to the list of outlier indices \n",
        "        outlier_indices.extend(outlier_list_col)\n",
        "        \n",
        "    # select observations containing more than 2 outliers\n",
        "    outlier_indices = Counter(outlier_indices)\n",
        "    multiple_outliers = list( k for k, v in outlier_indices.items() if v > n )\n",
        "    \n",
        "    return multiple_outliers   \n",
        "\n",
        "# detect outliers from numeric features\n",
        "outliers_to_drop = detect_outliers(df, 2 ,[\"Pregnancies\", 'Glucose', \n",
        "                                           'BloodPressure', 'BMI', \n",
        "                                           'DiabetesPedigreeFunction', \n",
        "                                           'SkinThickness', 'Insulin', 'Age'])"
      ],
      "metadata": {
        "id": "G9zUDyUXZx7W"
      },
      "execution_count": 408,
      "outputs": []
    },
    {
      "cell_type": "code",
      "source": [
        "X = df.drop(['Outcome'], axis=1)\n",
        "y = df['Outcome']"
      ],
      "metadata": {
        "id": "6Suz5pk3j0QP"
      },
      "execution_count": 409,
      "outputs": []
    },
    {
      "cell_type": "code",
      "source": [
        "from sklearn.model_selection import train_test_split\n",
        "X_train, X_test, y_train, y_test = train_test_split(X, y, test_size=0.25, random_state=56)\n",
        "print(X_train.shape)\n",
        "print(y_train.shape) \n"
      ],
      "metadata": {
        "colab": {
          "base_uri": "https://localhost:8080/"
        },
        "id": "TrvOQGjUjGZm",
        "outputId": "e561e07e-58c3-44af-edf7-2e9f9a0e145f"
      },
      "execution_count": 410,
      "outputs": [
        {
          "output_type": "stream",
          "name": "stdout",
          "text": [
            "(576, 8)\n",
            "(576,)\n"
          ]
        }
      ]
    },
    {
      "cell_type": "code",
      "source": [
        "#from sklearn.preprocessing import StandardScaler\n",
        "#X = StandardScaler().fit_transform(X)\n",
        "#X_train, X_test, y_train, y_test = train_test_split(X, y, test_size=0.33, random_state=42)"
      ],
      "metadata": {
        "id": "n2cu_l45Uje2"
      },
      "execution_count": null,
      "outputs": []
    },
    {
      "cell_type": "code",
      "source": [
        "#Using decision tree\n",
        "from sklearn.tree import DecisionTreeClassifier\n",
        "\n",
        "dtree = DecisionTreeClassifier()\n",
        "dtree.fit(X_train, y_train)\n",
        "res_dtree = dtree.score(X_test, y_test)"
      ],
      "metadata": {
        "id": "uQKzBfcvPzQG"
      },
      "execution_count": 411,
      "outputs": []
    },
    {
      "cell_type": "code",
      "source": [
        "#Using boost\n",
        "from xgboost import XGBClassifier\n",
        "\n",
        "xgb_model = XGBClassifier(gamma=0)\n",
        "xgb_model.fit(X_train, y_train)\n",
        "res_xgb = xgb_model.score(X_test, y_test)"
      ],
      "metadata": {
        "id": "G4cLdbvLQRED"
      },
      "execution_count": 412,
      "outputs": []
    },
    {
      "cell_type": "code",
      "source": [
        "#Using logistic regression\n",
        "from sklearn.linear_model import LogisticRegression\n",
        "\n",
        "clf = LogisticRegression(random_state=0).fit(X_train, y_train)\n",
        "res_logistic_reg = clf.score(X_test, y_test)     "
      ],
      "metadata": {
        "id": "-hTaElRrkpkU"
      },
      "execution_count": 413,
      "outputs": []
    },
    {
      "cell_type": "code",
      "source": [
        "#Using Random forest\n",
        "from sklearn.ensemble import RandomForestClassifier\n",
        "\n",
        "clf1 = RandomForestClassifier(max_depth=100, random_state=0)\n",
        "res =clf1.fit(X_train, y_train)\n",
        "res_rfc = res.score(X_test, y_test)"
      ],
      "metadata": {
        "id": "yxDIJxV_o8yA"
      },
      "execution_count": 414,
      "outputs": []
    },
    {
      "cell_type": "code",
      "source": [
        "#Using knn method\n",
        "from sklearn.neighbors import KNeighborsClassifier\n",
        "\n",
        "model = KNeighborsClassifier(n_neighbors=5)\n",
        "model.fit(X_train, y_train)\n",
        "res_knn = model.score(X_test, y_test)"
      ],
      "metadata": {
        "id": "9PykvpcHl60r"
      },
      "execution_count": 415,
      "outputs": []
    },
    {
      "cell_type": "code",
      "source": [
        "#Using linear regression\n",
        "from sklearn.linear_model import LinearRegression\n",
        "regg = LinearRegression()\n",
        "reg = regg.fit(X_train, y_train)\n",
        "res_linear_reg = reg.score(X_test, y_test)"
      ],
      "metadata": {
        "id": "-HEq0RC0m9za"
      },
      "execution_count": 416,
      "outputs": []
    },
    {
      "cell_type": "markdown",
      "source": [
        "**Accuracy without normalisation**"
      ],
      "metadata": {
        "id": "xKpdA7oxTPdb"
      }
    },
    {
      "cell_type": "code",
      "source": [
        "fig_1 = plt.figure()\n",
        "ax = fig_1.add_axes([0,0,1,1])\n",
        "methods = ['dtree','xgbBoost', 'logistic reg', 'rfc', 'knn', 'linear reg']\n",
        "accuracy = [res_dtree, res_xgb, res_logistic_reg, res_rfc, res_knn, res_linear_reg ]\n",
        "ax.bar(methods, accuracy)\n",
        "plt.show()"
      ],
      "metadata": {
        "colab": {
          "base_uri": "https://localhost:8080/",
          "height": 336
        },
        "id": "LA3u19CcQtFy",
        "outputId": "28da9585-1081-448a-e4a2-39991c22f126"
      },
      "execution_count": 417,
      "outputs": [
        {
          "output_type": "display_data",
          "data": {
            "text/plain": [
              "<Figure size 432x288 with 1 Axes>"
            ],
            "image/png": "[encoded data removed]"
          },
          "metadata": {
            "needs_background": "light"
          }
        }
      ]
    },
    {
      "cell_type": "code",
      "source": [
        "print(res_logistic_reg)\n",
        "print(res_rfc)"
      ],
      "metadata": {
        "colab": {
          "base_uri": "https://localhost:8080/"
        },
        "id": "oGq0tUfXTAyb",
        "outputId": "52f138ef-bb11-4286-924d-84769ac4ddd2"
      },
      "execution_count": 418,
      "outputs": [
        {
          "output_type": "stream",
          "name": "stdout",
          "text": [
            "0.8125\n",
            "0.8072916666666666\n"
          ]
        }
      ]
    },
    {
      "cell_type": "markdown",
      "source": [
        "**With normalisation**"
      ],
      "metadata": {
        "id": "HByF1-ViVT2s"
      }
    },
    {
      "cell_type": "code",
      "source": [
        "fig_2 = plt.figure()\n",
        "ax = fig_2.add_axes([0,0,1,1])\n",
        "methods = ['dtree','xgbBoost', 'logistic reg', 'rfc', 'knn', 'linear reg']\n",
        "accuracy = [res_dtree, res_xgb, res_logistic_reg, res_rfc, res_knn, res_linear_reg ]\n",
        "ax.bar(methods, accuracy)\n",
        "plt.show()"
      ],
      "metadata": {
        "colab": {
          "base_uri": "https://localhost:8080/",
          "height": 336
        },
        "id": "kDuCbn2WUqRD",
        "outputId": "cfea17d3-530b-435f-de0c-1c33c7d9ae85"
      },
      "execution_count": null,
      "outputs": [
        {
          "output_type": "display_data",
          "data": {
            "text/plain": [
              "<Figure size 432x288 with 1 Axes>"
            ],
            "image/png": "[encoded data removed]"
          },
          "metadata": {
            "needs_background": "light"
          }
        }
      ]
    },
    {
      "cell_type": "code",
      "source": [
        "print(res_logistic_reg)\n",
        "print(res_xgb)\n",
        "print(res_knn)"
      ],
      "metadata": {
        "colab": {
          "base_uri": "https://localhost:8080/"
        },
        "id": "HgRwvYBBUyvH",
        "outputId": "21ba820c-877f-4be9-db4b-2c2c735ceaef"
      },
      "execution_count": null,
      "outputs": [
        {
          "output_type": "stream",
          "name": "stdout",
          "text": [
            "0.7480314960629921\n",
            "0.7440944881889764\n",
            "0.7401574803149606\n"
          ]
        }
      ]
    },
    {
      "cell_type": "code",
      "source": [
        "#Finding and using hyperparameters \n",
        "from sklearn.model_selection import GridSearchCV\n",
        "grid = {\"C\":[0,1,2,3,4], \"penalty\":[\"l1\",\"l2\"]}\n",
        "logreg = LogisticRegression()\n",
        "logreg_cv = GridSearchCV(logreg,grid,cv=5)\n",
        "logreg_cv.fit(X_train,y_train)\n",
        "print(\"tuned hpyerparameters :(best parameters) \",logreg_cv.best_params_)\n",
        "print(\"accuracy :\",logreg_cv.best_score_)"
      ],
      "metadata": {
        "colab": {
          "base_uri": "https://localhost:8080/"
        },
        "id": "Q3VKt9LKrblg",
        "outputId": "f4ccd9a3-b313-4abd-9699-93bcb023df30"
      },
      "execution_count": 419,
      "outputs": [
        {
          "output_type": "stream",
          "name": "stdout",
          "text": [
            "tuned hpyerparameters :(best parameters)  {'C': 1, 'penalty': 'l2'}\n",
            "accuracy : 0.74832083958021\n"
          ]
        }
      ]
    },
    {
      "cell_type": "code",
      "source": [
        "from sklearn.ensemble import RandomForestClassifier\n",
        "from sklearn.model_selection import RandomizedSearchCV\n",
        "rf = RandomForestClassifier()\n",
        "# Number of trees in random forest\n",
        "n_estimators = [int(x) for x in np.linspace(start = 200, stop = 300, num = 10)]\n",
        "# Number of features to consider at every split\n",
        "max_features = ['auto', 'sqrt']\n",
        "# Maximum number of levels in tree\n",
        "max_depth = [int(x) for x in np.linspace(10, 110, num = 11)]\n",
        "max_depth.append(None)\n",
        "# Minimum number of samples required to split a node\n",
        "min_samples_split = [2, 5, 10]\n",
        "# Minimum number of samples required at each leaf node\n",
        "min_samples_leaf = [1, 2, 4]\n",
        "# Method of selecting samples for training each tree\n",
        "bootstrap = [True, False]\n",
        "# Create the random grid\n",
        "random_grid = {'n_estimators': n_estimators,\n",
        "               'max_features': max_features,\n",
        "               'max_depth': max_depth,\n",
        "               'min_samples_split': min_samples_split,\n",
        "               'min_samples_leaf': min_samples_leaf,\n",
        "               'bootstrap': bootstrap}\n",
        "\n",
        "# Random search of parameters, using 3 fold cross validation, \n",
        "# search across 100 different combinations, and use all available cores\n",
        "rf_random = RandomizedSearchCV(estimator = rf, param_distributions = random_grid, n_iter = 10, cv = 3, verbose=2, random_state=42, n_jobs = -1)\n",
        "# Fit the random search model\n",
        "rf_random.fit(X_train, y_train)"
      ],
      "metadata": {
        "colab": {
          "base_uri": "https://localhost:8080/"
        },
        "id": "_xxqkv1Nr9Y1",
        "outputId": "63af1374-9b50-45ee-8f3d-b670dbc457cf"
      },
      "execution_count": 423,
      "outputs": [
        {
          "output_type": "stream",
          "name": "stdout",
          "text": [
            "Fitting 3 folds for each of 10 candidates, totalling 30 fits\n"
          ]
        },
        {
          "output_type": "execute_result",
          "data": {
            "text/plain": [
              "RandomizedSearchCV(cv=3, estimator=RandomForestClassifier(), n_jobs=-1,\n",
              "                   param_distributions={'bootstrap': [True, False],\n",
              "                                        'max_depth': [10, 20, 30, 40, 50, 60,\n",
              "                                                      70, 80, 90, 100, 110,\n",
              "                                                      None],\n",
              "                                        'max_features': ['auto', 'sqrt'],\n",
              "                                        'min_samples_leaf': [1, 2, 4],\n",
              "                                        'min_samples_split': [2, 5, 10],\n",
              "                                        'n_estimators': [200, 211, 222, 233,\n",
              "                                                         244, 255, 266, 277,\n",
              "                                                         288, 300]},\n",
              "                   random_state=42, verbose=2)"
            ]
          },
          "metadata": {},
          "execution_count": 423
        }
      ]
    },
    {
      "cell_type": "code",
      "source": [
        "logreg2=LogisticRegression(C=1,penalty=\"l2\")\n",
        "logreg2.fit(X_train,y_train)\n",
        "print(\"score\",logreg2.score(X_test,y_test))"
      ],
      "metadata": {
        "colab": {
          "base_uri": "https://localhost:8080/"
        },
        "id": "wi4qh-09tMT2",
        "outputId": "590b05f7-a959-4398-a457-df72ed8a0c15"
      },
      "execution_count": null,
      "outputs": [
        {
          "output_type": "stream",
          "name": "stdout",
          "text": [
            "score 0.8125\n"
          ]
        }
      ]
    },
    {
      "cell_type": "code",
      "source": [
        "print(rf_random.score(X_test, y_test))"
      ],
      "metadata": {
        "id": "3XcYJxSbsAOh",
        "colab": {
          "base_uri": "https://localhost:8080/"
        },
        "outputId": "3d052cb4-f56f-4546-815e-90e53f4b4f75"
      },
      "execution_count": 424,
      "outputs": [
        {
          "output_type": "stream",
          "name": "stdout",
          "text": [
            "0.796875\n"
          ]
        }
      ]
    },
    {
      "cell_type": "code",
      "source": [
        "#Principal component analysis\n",
        "from sklearn import linear_model, decomposition\n",
        "from sklearn.pipeline import Pipeline\n",
        "pca = decomposition.PCA()\n",
        "pipe = Pipeline(steps=[('pca', pca),\n",
        "                           ('logistic_Reg', logreg)])\n",
        "n_components = list(range(1,X_train.shape[1]+1,1))\n",
        "print(n_components)\n",
        "C = np.logspace(-4, 4, 50)\n",
        "solvers = ['newton-cg', 'lbfgs', 'liblinear', 'warn']\n",
        "penalty = ['l1', 'l2', 'none', 'elasticnet']\n",
        "parameters = dict(pca__n_components=n_components,\n",
        "                      logistic_Reg__C=C,\n",
        "                      logistic_Reg__penalty=penalty,\n",
        "                      logistic_Reg__solver=solvers)\n",
        "clf_GS = GridSearchCV(pipe, parameters)\n",
        "clf_GS.fit(X_train, y_train)\n",
        "print('Best Penalty:', clf_GS.best_estimator_.get_params()['logistic_Reg__penalty'])\n",
        "print('Best C:', clf_GS.best_estimator_.get_params()['logistic_Reg__C'])\n",
        "print('Best Number Of Components:', clf_GS.best_estimator_.get_params()['pca__n_components'])\n",
        "print(); print(clf_GS.best_estimator_.get_params()['logistic_Reg'])"
      ],
      "metadata": {
        "colab": {
          "base_uri": "https://localhost:8080/"
        },
        "id": "uPiXvwpevOXr",
        "outputId": "8fd0dac1-79f1-4b1a-da9b-3290b5d190d6"
      },
      "execution_count": 425,
      "outputs": [
        {
          "output_type": "stream",
          "name": "stdout",
          "text": [
            "[1, 2, 3, 4, 5, 6, 7, 8]\n",
            "Best Penalty: none\n",
            "Best C: 0.0001\n",
            "Best Number Of Components: 8\n",
            "\n",
            "LogisticRegression(C=0.0001, penalty='none', solver='newton-cg')\n"
          ]
        }
      ]
    },
    {
      "cell_type": "code",
      "source": [
        "from sklearn.decomposition import PCA\n",
        "pca = PCA(n_components=7)\n",
        "X_pca = pca.fit_transform(X_train)\n",
        "X_pca1= pca.fit_transform(X_test)\n",
        "blr = LogisticRegression(C=0.2682695795279725, solver='liblinear', penalty='l2')\n",
        "lo = blr.fit(X_pca, y_train)\n",
        "print(lo.score(X_pca1, y_test))"
      ],
      "metadata": {
        "id": "rvB5B4DCweOe",
        "colab": {
          "base_uri": "https://localhost:8080/"
        },
        "outputId": "43eeef72-c590-4e55-e453-6091ef3d5851"
      },
      "execution_count": 426,
      "outputs": [
        {
          "output_type": "stream",
          "name": "stdout",
          "text": [
            "0.78125\n"
          ]
        }
      ]
    },
    {
      "cell_type": "code",
      "source": [
        "from sklearn.model_selection import cross_val_score\n",
        "\n",
        "scores_dtree = cross_val_score(dtree, X_train, y_train, cv=10, scoring='accuracy')\n",
        "scores_xgb_model = cross_val_score(xgb_model, X_train, y_train, cv=10, scoring='accuracy')\n",
        "scores_logreg = cross_val_score(logreg, X_train, y_train, cv=10, scoring = 'accuracy')\n",
        "print(scores_logreg)\n",
        "scores_clf1 = cross_val_score(clf1, X_train, y_train, cv=10, scoring = 'accuracy')\n",
        "print(scores_clf1)\n",
        "scores_model = cross_val_score(model, X_train, y_train, cv=10, scoring = 'accuracy')\n",
        "scores_regg = cross_val_score(regg, X_train, y_train, cv=10, scoring = 'accuracy')\n",
        "scores_dtree = np.mean(scores_dtree)\n",
        "scores_xgb_model = np.mean(scores_xgb_model)\n",
        "scores_logreg = np.mean(scores_logreg)\n",
        "scores_clf1 = np.mean(scores_clf1)\n",
        "scores_model = np.mean(scores_model)\n",
        "scores_regg = np.mean(scores_regg)"
      ],
      "metadata": {
        "id": "gPPDd7yS_2Qw",
        "colab": {
          "base_uri": "https://localhost:8080/"
        },
        "outputId": "81d8fe5a-0052-4302-b8ab-9bddddcc2896"
      },
      "execution_count": 434,
      "outputs": [
        {
          "output_type": "stream",
          "name": "stdout",
          "text": [
            "[0.77586207 0.63793103 0.79310345 0.75862069 0.70689655 0.75862069\n",
            " 0.70175439 0.71929825 0.66666667 0.8245614 ]\n",
            "[0.75862069 0.72413793 0.72413793 0.82758621 0.75862069 0.79310345\n",
            " 0.63157895 0.78947368 0.66666667 0.94736842]\n"
          ]
        }
      ]
    },
    {
      "cell_type": "code",
      "source": [
        "method = ['dtree','xgb','logReg','rfc','knn', 'linearReg']\n",
        "accuracy_res = [scores_dtree, scores_xgb_model, scores_logreg, scores_clf1, scores_model, scores_regg]\n",
        "c = ['red', 'yellow', 'black', 'blue', 'orange', 'purple']\n",
        " \n",
        "#bar plot\n",
        "plt.bar(method, height = accuracy_res, color = c)\n",
        " \n",
        "plt.show()"
      ],
      "metadata": {
        "colab": {
          "base_uri": "https://localhost:8080/",
          "height": 269
        },
        "id": "2EDI_SBWfv1D",
        "outputId": "fac93564-06b0-464e-9600-eda269409768"
      },
      "execution_count": 428,
      "outputs": [
        {
          "output_type": "display_data",
          "data": {
            "text/plain": [
              "<Figure size 432x288 with 1 Axes>"
            ],
            "image/png": "[encoded data removed]"
          },
          "metadata": {
            "needs_background": "light"
          }
        }
      ]
    },
    {
      "cell_type": "markdown",
      "source": [
        "As per above observation, i found that xgBoosting, RandomForestClassifier, and LogisticRegression model has more accuracy."
      ],
      "metadata": {
        "id": "SVFPhfJViWg9"
      }
    },
    {
      "cell_type": "code",
      "source": [
        "clf1.feature_importances_"
      ],
      "metadata": {
        "colab": {
          "base_uri": "https://localhost:8080/"
        },
        "id": "bA2ZsGZ_u11K",
        "outputId": "48db67ad-f3e8-4ac5-c152-cdc734bfe34c"
      },
      "execution_count": 431,
      "outputs": [
        {
          "output_type": "execute_result",
          "data": {
            "text/plain": [
              "array([0.08257119, 0.24697903, 0.08379133, 0.07359201, 0.08393749,\n",
              "       0.15881688, 0.13096844, 0.13934362])"
            ]
          },
          "metadata": {},
          "execution_count": 431
        }
      ]
    },
    {
      "cell_type": "code",
      "source": [
        "af = clf1.feature_importances_\n",
        "method = [0, 1, 2, 3, 4, 5, 6, 7]\n",
        "accuracy_res = af\n",
        "c = ['red', 'yellow', 'black', 'blue', 'orange', 'purple', 'brown', 'green']\n",
        " \n",
        "#bar plot\n",
        "plt.bar(method, height = accuracy_res, color = c)\n",
        " \n",
        "plt.show()"
      ],
      "metadata": {
        "colab": {
          "base_uri": "https://localhost:8080/",
          "height": 265
        },
        "id": "UmQAuwF7wDjL",
        "outputId": "b17c7eb7-23d2-49ab-a2ad-33a80aa3dcce"
      },
      "execution_count": 433,
      "outputs": [
        {
          "output_type": "display_data",
          "data": {
            "text/plain": [
              "<Figure size 432x288 with 1 Axes>"
            ],
            "image/png": "[encoded data removed]"
          },
          "metadata": {
            "needs_background": "light"
          }
        }
      ]
    },
    {
      "cell_type": "markdown",
      "source": [
        "**Glucose as a feature is the most important in this dataset**"
      ],
      "metadata": {
        "id": "MnPgRB3qw5dR"
      }
    }
  ]
}