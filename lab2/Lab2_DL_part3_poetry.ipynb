{
 "cells": [
  {
   "cell_type": "markdown",
   "metadata": {
    "id": "E2jeC-ePTqHX"
   },
   "source": [
    "## Lab 2"
   ]
  },
  {
   "cell_type": "markdown",
   "metadata": {
    "id": "-IiP5MoUTqHd"
   },
   "source": [
    "### Part 3. Poetry generation\n",
    "\n",
    "Let's try to generate some poetry using RNNs. \n",
    "\n",
    "You have several choices here: \n",
    "\n",
    "* The Shakespeare sonnets, file `sonnets.txt` available in the notebook directory.\n",
    "\n",
    "* Роман в стихах \"Евгений Онегин\" Александра Сергеевича Пушкина. В предобработанном виде доступен по [ссылке](https://github.com/attatrol/data_sources/blob/master/onegin.txt).\n",
    "\n",
    "* Some other text source, if it will be approved by the course staff.\n",
    "\n",
    "Text generation can be designed in several steps:\n",
    "    \n",
    "1. Data loading.\n",
    "2. Dictionary generation.\n",
    "3. Data preprocessing.\n",
    "4. Model (neural network) training.\n",
    "5. Text generation (model evaluation).\n"
   ]
  },
  {
   "cell_type": "code",
   "execution_count": 4,
   "metadata": {
    "id": "ln-RmtnJTqHf"
   },
   "outputs": [],
   "source": [
    "import string\n",
    "import os\n",
    "import numpy as np\n",
    "import torch\n",
    "import torch.nn as nn\n",
    "import torch.nn.functional as F\n",
    "\n",
    "from IPython.display import clear_output\n",
    "import matplotlib.pyplot as plt\n",
    "import warnings\n",
    "warnings.filterwarnings(\"ignore\")"
   ]
  },
  {
   "cell_type": "markdown",
   "metadata": {
    "id": "Bek9Q6e7TqHg"
   },
   "source": [
    "### Data loading: Shakespeare"
   ]
  },
  {
   "cell_type": "markdown",
   "metadata": {
    "id": "43Ho27LpTqHh"
   },
   "source": [
    "Shakespeare sonnets are awailable at this [link](http://www.gutenberg.org/ebooks/1041?msg=welcome_stranger). In addition, they are stored in the same directory as this notebook (`sonnetes.txt`). Simple preprocessing is already done for you in the next cell: all technical info is dropped."
   ]
  },
  {
   "cell_type": "code",
   "execution_count": 9,
   "metadata": {
    "id": "1YtCkYOaTqHh"
   },
   "outputs": [],
   "source": [
    "if not os.path.exists('sonnets.txt'):\n",
    "    !wget https://raw.githubusercontent.com/girafe-ai/ml-course/22f_basic/homeworks/lab02_deep_learning/sonnets.txt\n",
    "\n",
    "with open('sonnets.txt', 'r') as iofile:\n",
    "    text = iofile.readlines()\n",
    "    \n",
    "TEXT_START = 45\n",
    "TEXT_END = -368\n",
    "text = text[TEXT_START : TEXT_END]\n",
    "assert len(text) == 2616"
   ]
  },
  {
   "cell_type": "markdown",
   "metadata": {
    "id": "U74JjHdCTqHi"
   },
   "source": [
    "In opposite to the in-class practice, this time we want to predict complex text. Let's reduce the complexity of the task and lowercase all the symbols.\n",
    "\n",
    "Now variable `text` is a list of strings. Join all the strings into one and lowercase it."
   ]
  },
  {
   "cell_type": "code",
   "execution_count": 10,
   "metadata": {
    "colab": {
     "base_uri": "https://localhost:8080/"
    },
    "id": "CqRhp8K6TqHj",
    "outputId": "e5e51f6c-a999-4575-d19a-24d89f214c41"
   },
   "outputs": [
    {
     "name": "stdout",
     "output_type": "stream",
     "text": [
      "OK!\n"
     ]
    }
   ],
   "source": [
    "# Join all the strings into one and lowercase it\n",
    "# Put result into variable text.\n",
    "\n",
    "# Your great code here\n",
    "text = \"\".join([x.lower() for x in text])\n",
    "assert len(text) == 100225, 'Are you sure you have concatenated all the strings?'\n",
    "assert not any([x in set(text) for x in string.ascii_uppercase]), 'Uppercase letters are present'\n",
    "print('OK!')"
   ]
  },
  {
   "cell_type": "markdown",
   "metadata": {
    "id": "kDvVMLjcTqHk"
   },
   "source": [
    "### Data loading: \"Евгений Онегин\"\n"
   ]
  },
  {
   "cell_type": "code",
   "execution_count": 7,
   "metadata": {
    "colab": {
     "base_uri": "https://localhost:8080/"
    },
    "id": "bIeNmlsWTqHl",
    "outputId": "a95fb753-22ef-4e88-d1b8-96e3cc74d8d6"
   },
   "outputs": [
    {
     "name": "stdout",
     "output_type": "stream",
     "text": [
      "--2022-12-22 19:58:09--  https://raw.githubusercontent.com/attatrol/data_sources/master/onegin.txt\n",
      "Resolving raw.githubusercontent.com (raw.githubusercontent.com)... 185.199.111.133, 185.199.110.133, 185.199.108.133, ...\n",
      "Connecting to raw.githubusercontent.com (raw.githubusercontent.com)|185.199.111.133|:443... connected.\n",
      "HTTP request sent, awaiting response... 200 OK\n",
      "Length: 262521 (256K) [text/plain]\n",
      "Saving to: ‘onegin.txt’\n",
      "\n",
      "onegin.txt          100%[===================>] 256,37K  1013KB/s    in 0,3s    \n",
      "\n",
      "2022-12-22 19:58:10 (1013 KB/s) - ‘onegin.txt’ saved [262521/262521]\n",
      "\n"
     ]
    }
   ],
   "source": [
    "!wget https://raw.githubusercontent.com/attatrol/data_sources/master/onegin.txt\n",
    "    \n",
    "with open('onegin.txt', 'r') as iofile:\n",
    "    text = iofile.readlines()\n",
    "    \n",
    "text = [x.replace('\\t\\t', '') for x in text]"
   ]
  },
  {
   "cell_type": "markdown",
   "metadata": {
    "id": "vlqNn7mwTqHn"
   },
   "source": [
    "In opposite to the in-class practice, this time we want to predict complex text. Let's reduce the complexity of the task and lowercase all the symbols.\n",
    "\n",
    "Now variable `text` is a list of strings. Join all the strings into one and lowercase it."
   ]
  },
  {
   "cell_type": "code",
   "execution_count": null,
   "metadata": {
    "id": "w64GSlXHTqHo"
   },
   "outputs": [],
   "source": [
    "# Join all the strings into one and lowercase it\n",
    "# Put result into variable text.\n",
    "\n",
    "# Your great code here\n"
   ]
  },
  {
   "cell_type": "markdown",
   "metadata": {
    "id": "3sJmcKdVTqHp"
   },
   "source": [
    "Put all the characters, that you've seen in the text, into variable `tokens`."
   ]
  },
  {
   "cell_type": "code",
   "execution_count": 11,
   "metadata": {
    "id": "yu98hPjlTqHp"
   },
   "outputs": [],
   "source": [
    "tokens = sorted(set(text))"
   ]
  },
  {
   "cell_type": "markdown",
   "metadata": {
    "id": "z0k99ZiQTqHq"
   },
   "source": [
    "Create dictionary `token_to_idx = {<char>: <index>}` and dictionary `idx_to_token = {<index>: <char>}`"
   ]
  },
  {
   "cell_type": "code",
   "execution_count": 12,
   "metadata": {
    "colab": {
     "base_uri": "https://localhost:8080/"
    },
    "id": "nc5L7WjcTqHq",
    "outputId": "6106bff0-1c8b-4685-b3b4-c14e5633ad68"
   },
   "outputs": [
    {
     "name": "stdout",
     "output_type": "stream",
     "text": [
      "Number of sequences: 100161\n"
     ]
    }
   ],
   "source": [
    "# dict <index>:<char>\n",
    "# Your great code here\n",
    "token_to_idx = {token: idx for idx, token in enumerate(tokens)}\n",
    "idx_to_token = dict(enumerate(tokens))\n",
    "device = torch.device(\"cuda\") if torch.cuda.is_available() else torch.device(\"cpu\")\n",
    "sentences, next_tokens = [], []\n",
    "for i in range(0, len(text) - 64, 1):\n",
    "  sentences.append(text[i : i + 64])\n",
    "  next_tokens.append(text[i + 64])\n",
    "\n",
    "print(\"Number of sequences:\", len(sentences))\n",
    "x = np.zeros((len(sentences), 64, len(tokens)))\n",
    "y = np.zeros((len(sentences), len(tokens)))\n",
    "for i, sentence in enumerate(sentences):\n",
    "  for t, token in enumerate(sentence):\n",
    "    x[i, t, token_to_idx[token]] = 1\n",
    "  y[i, token_to_idx[next_tokens[i]]] = 1\n",
    "\n",
    "# dict <char>:<index>\n",
    "# Your great code here"
   ]
  },
  {
   "cell_type": "markdown",
   "metadata": {
    "id": "vOaJg4IjTqHr"
   },
   "source": [
    "*Comment: in this task we have only 38 different tokens, so let's use one-hot encoding.*"
   ]
  },
  {
   "cell_type": "markdown",
   "metadata": {
    "id": "xlTj_VgoTqHr"
   },
   "source": [
    "### Building the model"
   ]
  },
  {
   "cell_type": "markdown",
   "metadata": {
    "id": "cK8bBYxYTqHr"
   },
   "source": [
    "Now we want to build and train recurrent neural net which would be able to something similar to Shakespeare's poetry.\n",
    "\n",
    "Let's use vanilla RNN, similar to the one created during the lesson."
   ]
  },
  {
   "cell_type": "code",
   "execution_count": 13,
   "metadata": {
    "id": "JRjlESOSTqHs"
   },
   "outputs": [],
   "source": [
    "class VanillaRNN(nn.Module):\n",
    "    def __init__(self, n_tokens = len(tokens), hidden_dim = 128, emb_dim = 128,\n",
    "                 n_layers = 1):\n",
    "        super(VanillaRNN, self).__init__()\n",
    "        self.hidden_dim = hidden_dim\n",
    "        self.emb_dim = emb_dim\n",
    "        self.n_layers = n_layers\n",
    "        self.n_tokens = n_tokens\n",
    "        \n",
    "        self.embed = nn.Embedding(n_tokens, self.emb_dim)\n",
    "        self.rnn = nn.RNN(self.emb_dim, self.hidden_dim, batch_first =  True)\n",
    "        self.dropout  = nn.Dropout(.35)\n",
    "        self.hid_to_logits = nn.Linear(self.hidden_dim, n_tokens)\n",
    "    \n",
    "    def forward(self, x, h_prev):\n",
    "        h_seq, h = self.rnn(self.embed(x), h_prev)\n",
    "        h_seq = self.dropout(h_seq)\n",
    "        next_logits = self.hid_to_logits(h_seq)\n",
    "        return next_logits, h\n",
    "    \n",
    "    def initial_state(self, batch_size):\n",
    "        weight = next(self.parameters()).data\n",
    "        return weight.new(self.n_layers, batch_size, self.hidden_dim).zero_().to(device)"
   ]
  },
  {
   "cell_type": "markdown",
   "metadata": {
    "id": "gB8r-SNITqHs"
   },
   "source": [
    "Plot the loss function (axis X: number of epochs, axis Y: loss function)."
   ]
  },
  {
   "cell_type": "code",
   "execution_count": 14,
   "metadata": {
    "colab": {
     "base_uri": "https://localhost:8080/",
     "height": 445
    },
    "id": "BznE2cAPTqHs",
    "outputId": "e1728a23-848f-4bc2-a747-0f2c04e8d5d1"
   },
   "outputs": [
    {
     "data": {
      "image/png": "[encoded data removed]",
      "text/plain": [
       "<Figure size 640x480 with 1 Axes>"
      ]
     },
     "metadata": {},
     "output_type": "display_data"
    },
    {
     "name": "stdout",
     "output_type": "stream",
     "text": [
      "Loss after the epoch # 11 1.7817878888203547\n",
      "Loss after the epoch # 12 1.772978074122698\n",
      "Loss after the epoch # 13 1.7601071235461112\n",
      "Loss after the epoch # 14 1.7556035995483399\n",
      "Loss after the epoch # 15 1.7474428824889354\n"
     ]
    }
   ],
   "source": [
    "# Your plot code here\n",
    "batch_size = 512\n",
    "model_rnn = VanillaRNN()\n",
    "opt = torch.optim.Adam(model_rnn.parameters())\n",
    "model_rnn.to(device)\n",
    "criterion = nn.CrossEntropyLoss()\n",
    "\n",
    "n_epochs = 15\n",
    "history = []\n",
    "model = model_rnn.train()\n",
    "\n",
    "for epoch in range(n_epochs):\n",
    "    ep_history = []\n",
    "    hidden_state = model_rnn.initial_state(batch_size)\n",
    "    for batch_ind in range(batch_size, x.shape[0], batch_size):\n",
    "      opt.zero_grad()\n",
    "      x_batch = torch.argmax(torch.Tensor(x[batch_ind - batch_size : batch_ind]), dim = -1).to(device)\n",
    "      y_batch = torch.argmax(torch.Tensor(y[batch_ind - batch_size : batch_ind]), dim = -1).to(device)\n",
    "      seq, hidden_state = model_rnn(x_batch, hidden_state)\n",
    "      loss = criterion(seq[:, -1].contiguous(), y_batch.contiguous())  \n",
    "      loss.backward()\n",
    "      opt.step()  \n",
    "      ep_history.append(loss.item())\n",
    "      hidden_state = hidden_state.detach()\n",
    "    history.append(np.mean(ep_history))\n",
    "    print(\"Loss after the epoch # {}\".format(epoch + 1), history[-1])\n",
    "    if (epoch + 1) % 10 == 0:\n",
    "        clear_output(True)\n",
    "        plt.plot(history, label = 'loss')\n",
    "        plt.xlabel(\"n_epochs\")\n",
    "        plt.legend()\n",
    "        plt.show()"
   ]
  },
  {
   "cell_type": "code",
   "execution_count": 16,
   "metadata": {
    "id": "Qe0-u11fTqHt"
   },
   "outputs": [],
   "source": [
    "def generate_text(char_rnn, tokens = tokens, seed_phrase = 'fucking society! ', \n",
    "                    max_length = 100, temperature = 1., flag = False):\n",
    "  \n",
    "    def sample(preds, tokens, temperature = 1.):\n",
    "        preds =  F.softmax(preds / temperature, dim = -1).cpu().data.numpy().squeeze()\n",
    "        next_ix = np.random.choice(len(tokens), p = preds)\n",
    "        return torch.LongTensor([[next_ix]])\n",
    "\n",
    "    x_sequence = torch.Tensor([np.array([token_to_idx[token] for token in seed_phrase.lower()])]).to(device)\n",
    "    hid_state = char_rnn.initial_state(batch_size = 1)\n",
    "\n",
    "    if flag: hid_state = tuple([each.data for each in hid_state])\n",
    "    for i in range(len(seed_phrase) - 1):\n",
    "        out, hid_state = char_rnn(torch.stack([x_sequence[:, i].long()]), hid_state)\n",
    "    \n",
    "    for i in range(max_length - len(seed_phrase)):\n",
    "        out, hid_state = char_rnn(torch.stack([x_sequence[:, -1].long()]), hid_state)\n",
    "        next_ix = sample(out, tokens, temperature)\n",
    "\n",
    "        x_sequence = torch.cat([x_sequence, next_ix.to(device)], dim = 1)\n",
    "    return ''.join([tokens[int(ix)] for ix in x_sequence.cpu().data.numpy()[0]])"
   ]
  },
  {
   "cell_type": "code",
   "execution_count": 17,
   "metadata": {
    "colab": {
     "base_uri": "https://localhost:8080/",
     "height": 205
    },
    "id": "o0pXsYOjTqHt",
    "outputId": "421d6d03-4805-45d5-e75e-4e697aeabe83"
   },
   "outputs": [
    {
     "name": "stdout",
     "output_type": "stream",
     "text": [
      "fucking society! the leviiom the musind, feary,\n",
      "  i hepied.\n",
      "  if shale thou my sore;\n",
      "  o! mbarakes fait.,\n",
      "  in what pace in love i epit,\n",
      "  and thet soack date ofs,\n",
      "  and will musiselo,\n",
      "  thy bevill,\n",
      "  they so ary banking essind speat, do thou be.\n",
      "\n",
      "    butr pleast\n",
      "  thee i not his doth for eerin\n",
      "  stoamting thine hath they my pres,\n",
      "  and my dears on thio 'oft thy istanee that but of tre bjbe taingn-soousto! so my fate,\n",
      "  and self i stell each thing bid, stell wittel he add, theign'd thouep theus \n"
     ]
    }
   ],
   "source": [
    "# An example of generated text.\n",
    "# print(generate_text(length=500, temperature=0.2))\n",
    "import warnings\n",
    "warnings.filterwarnings(\"ignore\")\n",
    "model = model_rnn.eval()\n",
    "print(generate_text(char_rnn = model_rnn,  max_length = 500, temperature = 1.))"
   ]
  },
  {
   "cell_type": "markdown",
   "metadata": {
    "id": "70z_R0YKTqHu"
   },
   "source": [
    "### More poetic model\n",
    "\n",
    "Let's use LSTM instead of vanilla RNN and compare the results."
   ]
  },
  {
   "cell_type": "markdown",
   "metadata": {
    "id": "3VnWLH-uTqHu"
   },
   "source": [
    "Plot the loss function of the number of epochs. Does the final loss become better?"
   ]
  },
  {
   "cell_type": "code",
   "execution_count": 18,
   "metadata": {
    "id": "DrARSUeWTqHu"
   },
   "outputs": [
    {
     "data": {
      "image/png": "[encoded data removed]",
      "text/plain": [
       "<Figure size 640x480 with 1 Axes>"
      ]
     },
     "metadata": {},
     "output_type": "display_data"
    }
   ],
   "source": [
    "# Your beautiful code here\n",
    "class LSTM (nn.Module):\n",
    "    def __init__(self, n_tokens = len(tokens), hidden_dim = 256, emb_dim = 128,\n",
    "                 n_layers = 1):\n",
    "        super(LSTM, self).__init__()\n",
    "        self.hidden_dim = hidden_dim\n",
    "        self.emb_dim = emb_dim\n",
    "        self.n_layers = n_layers\n",
    "        self.n_tokens = emb_dim\n",
    "        \n",
    "        self.embed = nn.Embedding(n_tokens, self.emb_dim)\n",
    "        self.lstm = nn.LSTM(self.emb_dim, self.hidden_dim, batch_first =  True)\n",
    "        self.hid_to_logits = nn.Linear(self.hidden_dim, n_tokens)\n",
    "    \n",
    "    def forward(self, x, hidden_state):\n",
    "        out, hidden_state = self.lstm(self.embed(x), hidden_state)\n",
    "        out = self.hid_to_logits(out)\n",
    "      \n",
    "        return out, hidden_state\n",
    "    \n",
    "    def initial_state(self, batch_size):\n",
    "        weight = next(self.parameters()).data\n",
    "        hidden = (weight.new(self.n_layers, batch_size, self.hidden_dim).zero_().to(device),\n",
    "        weight.new(self.n_layers, batch_size, self.hidden_dim).zero_().to(device))\n",
    "        return hidden\n",
    "\n",
    "model_lstm = LSTM()\n",
    "opt = torch.optim.Adam(model_lstm.parameters())\n",
    "model_lstm.to(device)\n",
    "criterion = nn.CrossEntropyLoss()\n",
    "\n",
    "n_epochs = 15\n",
    "history = []\n",
    "model = model_lstm.train()\n",
    "for epoch in range(n_epochs):\n",
    "  ep_history = []\n",
    "  hidden_state = model_lstm.initial_state(batch_size)\n",
    "  for batch_ind in range(batch_size, x.shape[0], batch_size):\n",
    "    x_batch = torch.argmax(torch.Tensor(x[batch_ind - batch_size : batch_ind]), dim = -1).to(device)\n",
    "    y_batch = torch.argmax(torch.Tensor(y[batch_ind - batch_size : batch_ind]), dim = -1).to(device)\n",
    "    hidden_state = tuple([each.data for each in hidden_state])\n",
    "    opt.zero_grad()\n",
    "    seq, hidden_state = model_lstm(x_batch, hidden_state)\n",
    "    loss = criterion(seq[:, -1].contiguous(), y_batch.contiguous())  \n",
    "    loss.backward()\n",
    "    opt.step()  \n",
    "    ep_history.append(loss.item())\n",
    "  history.append(np.mean(ep_history))\n",
    "  print(\"Loss after the epoch # {}\".format(epoch + 1), history[-1])\n",
    "\n",
    "  if (epoch + 1) % 5 == 0:\n",
    "      clear_output(True)\n",
    "      plt.plot(history, label = 'loss')\n",
    "      plt.xlabel(\"n_epochs\")\n",
    "      plt.legend()\n",
    "      plt.show()"
   ]
  },
  {
   "cell_type": "markdown",
   "metadata": {
    "id": "E4HIcph0TqHv"
   },
   "source": [
    "Generate text using the trained net with different `temperature` parameter: `[0.1, 0.2, 0.5, 1.0, 2.0]`.\n",
    "\n",
    "Evaluate the results visually, try to interpret them."
   ]
  },
  {
   "cell_type": "code",
   "execution_count": 19,
   "metadata": {
    "id": "foDiLp5BTqHv"
   },
   "outputs": [
    {
     "name": "stdout",
     "output_type": "stream",
     "text": [
      "TEMPERATURE =  0.1\n",
      "\t listen, bitch! that i have story despise,\n",
      "  that i have swear that thou art thou art the days,\n",
      "  when i thou art thou art thou art thou desire,\n",
      "  that i have sweet thou art thou art thou desire,\n",
      "  that i when thou art thou art thou mayst true show,\n",
      "    and thou art thou art thou art thou dost thou art bear,\n",
      "  and therefore thou art thou art thou art thou desire,\n",
      "  that i have sweet thou art thou a \n",
      "\n",
      "TEMPERATURE =  0.2\n",
      "\t listen, bitch! if thou dost despise,\n",
      "    that which i thy heart thou art for my sight,\n",
      "  and the world count thou art thou mayst thou dost despise,\n",
      "    that i whom thou my love thee my love thee my heart,\n",
      "  and thou may thy self the sad thou mayst to me,\n",
      "  and therefore that thou art thou art thou dost thee thee,\n",
      "  and therefore thou art thou art thou art thou desire.\n",
      "    then thou dost thou fair  \n",
      "\n",
      "TEMPERATURE =  0.5\n",
      "\t listen, bitch! that i do fair,\n",
      "    and they should the mine eyes would dead thine eyes and excess\n",
      "  and prove that my heart thou mayst thou to most dood,\n",
      "  that i will of thy fair found that call merit,\n",
      "    and in my love, thou dost to the love do not fair sweet.\n",
      "\n",
      "  cxlvii\n",
      "\n",
      "  love is not see my sing are dear thee thee her with dead;\n",
      "    powing the love, that thou lov'st thou more the motiones as f \n",
      "\n",
      "TEMPERATURE =  1.0\n",
      "\t listen, bitch! in thy moan's doth thoughts,\n",
      "    anot rank love hath pitter me ponity;\n",
      "  where fase me with reckokes my great, and dost they,\n",
      "  for love a favine eyes do known thy substain,\n",
      "  doth my goods with usposs courpose, that should is their friends,\n",
      "  and proume thou with your the loving other why shade,\n",
      "  that is thine eye eye as my that we say,\n",
      "  for thou thine adonid i love or watterness \n",
      "\n",
      "TEMPERATURE =  2.0\n",
      "\t listen, bitch! woken, now.\n",
      "  sugpin usdss anonimy,.,?n or give telh-lerd wlong?\n",
      "  i sad to shame tour; o'er'drags unhimble:\n",
      "  cetul majidemnuelies to waken' her fist:\n",
      "    idly can oug to ua midest a mwantwhh v'uuty asqeaf, worny;\n",
      "  fishe hrems if eabtrosablihs bomag''t heaven,\n",
      "  amvies; wishesel is up-haked in sungrou,\n",
      "  yel wern; nod usfair'd motuf with infemwers winteans;\n",
      "  my take's hide.'d for \n",
      "\n"
     ]
    }
   ],
   "source": [
    "# Text generation with different temperature values here\n",
    "model = model_lstm.eval()\n",
    "for temperature in [0.1, 0.2, 0.5, 1.0, 2.0]:\n",
    "  print(\"TEMPERATURE = \", temperature)\n",
    "  poetry = generate_text(char_rnn = model_lstm, temperature = temperature,\n",
    "                      max_length = 400, seed_phrase = \"Listen, Bitch! \")\n",
    "\n",
    "  print('\\t', poetry, '\\n')"
   ]
  },
  {
   "cell_type": "markdown",
   "metadata": {
    "id": "jDXJam_bTqHv"
   },
   "source": [
    "### Saving and loading models"
   ]
  },
  {
   "cell_type": "markdown",
   "metadata": {
    "id": "yHLy8YzwTqHv"
   },
   "source": [
    "Save the model to the disk, then load it and generate text. Examples are available [here](https://pytorch.org/tutorials/beginner/saving_loading_models.html])."
   ]
  },
  {
   "cell_type": "code",
   "execution_count": 20,
   "metadata": {
    "id": "vekCkiehTqHv"
   },
   "outputs": [
    {
     "name": "stdout",
     "output_type": "stream",
     "text": [
      "listen, you! full if thy self i doth knight full, be,\n",
      "    and yet a keep there i sent, glive true days;\n",
      "  to bare thou knows frop thou master, or my mis,\n",
      "  hand carted any, and will by not foun this hells.\n",
      "  if less aught not be thou happy for thee,\n",
      "  drophame, i conounly o'er, may not be decesent:\n",
      "  but to know one is is not so long eyess goven\n",
      "  full mad addel i greet mad men of true:\n",
      "  i'vit copoun'd, and where i with foost,\n",
      "  which laid knoug\n"
     ]
    }
   ],
   "source": [
    "# Saving and loading code here\n",
    "def save_net(net, name: str, opt):\n",
    "    checkpoint = {'state_dict': net.state_dict(),\n",
    "                  'opt_state_dict': opt.state_dict()}\n",
    "\n",
    "    with open(name, 'wb') as f:\n",
    "        torch.save(checkpoint, f)\n",
    "\n",
    "save= save_net(model_lstm, \"Sh_LSTM.net\", opt)\n",
    "checkpoint = torch.load(\"Sh_LSTM.net\")\n",
    "model_lstm.load_state_dict(checkpoint['state_dict'])\n",
    "opt.load_state_dict(checkpoint['opt_state_dict'])\n",
    "model = model_lstm.eval()\n",
    "print(generate_text(char_rnn = model_lstm, temperature = 1.,\n",
    "                      max_length = 450, seed_phrase = \"Listen, You! \"))"
   ]
  },
  {
   "cell_type": "markdown",
   "metadata": {
    "id": "KyMKsdPHTqHw"
   },
   "source": [
    "### References\n",
    "1. <a href='http://karpathy.github.io/2015/05/21/rnn-effectiveness/'> Andrew Karpathy blog post about RNN. </a> \n",
    "There are several examples of genration: Shakespeare texts, Latex formulas, Linux Sourse Code and children names.\n",
    "2. <a href='https://github.com/karpathy/char-rnn'> Repo with char-rnn code </a>\n",
    "3. Cool repo with PyTorch examples: [link](https://github.com/spro/practical-pytorch`)"
   ]
  }
 ],
 "metadata": {
  "anaconda-cloud": {},
  "colab": {
   "provenance": []
  },
  "kernelspec": {
   "display_name": "Python 3 (ipykernel)",
   "language": "python",
   "name": "python3"
  },
  "language_info": {
   "codemirror_mode": {
    "name": "ipython",
    "version": 3
   },
   "file_extension": ".py",
   "mimetype": "text/x-python",
   "name": "python",
   "nbconvert_exporter": "python",
   "pygments_lexer": "ipython3",
   "version": "3.10.6"
  }
 },
 "nbformat": 4,
 "nbformat_minor": 1
}
