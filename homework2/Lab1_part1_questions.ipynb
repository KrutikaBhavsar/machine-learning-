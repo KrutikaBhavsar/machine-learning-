{
  "cells": [
    {
      "cell_type": "markdown",
      "metadata": {
        "id": "exEvnY7ymual"
      },
      "source": [
        "*Credits: materials from this notebook belong to YSDA [Practical DL](https://github.com/yandexdataschool/Practical_DL) course. Special thanks for making them available online.*"
      ]
    },
    {
      "cell_type": "markdown",
      "metadata": {
        "id": "ffrZh2f1muar"
      },
      "source": [
        "# Lab assignment №1, part 1\n",
        "\n",
        "This lab assignment consists of several parts. You are supposed to make some transformations, train some models, estimate the quality of the models and explain your results.\n",
        "\n",
        "Several comments:\n",
        "* Don't hesitate to ask questions, it's a good practice.\n",
        "* No private/public sharing, please. The copied assignments will be graded with 0 points.\n",
        "* Blocks of this lab will be graded separately."
      ]
    },
    {
      "cell_type": "markdown",
      "metadata": {
        "id": "Rt2Spvtsmuas"
      },
      "source": [
        "## 1. Matrix differentiation"
      ]
    },
    {
      "cell_type": "markdown",
      "metadata": {
        "id": "OKwq473_muat"
      },
      "source": [
        "Since it easy to google every task please please please try to undestand what's going on. The \"just answer\" thing will be not counted, make sure to present derivation of your solution. It is absolutely OK if you found an answer on web then just exercise in $\\LaTeX$ copying it into here."
      ]
    },
    {
      "cell_type": "markdown",
      "metadata": {
        "id": "tnH80UCYmuau"
      },
      "source": [
        "Useful links: \n",
        "[1](http://www.machinelearning.ru/wiki/images/2/2a/Matrix-Gauss.pdf)\n",
        "[2](http://www.atmos.washington.edu/~dennis/MatrixCalculus.pdf)"
      ]
    },
    {
      "cell_type": "markdown",
      "metadata": {
        "id": "P-U33jIGmuaw"
      },
      "source": [
        "## ex. 1"
      ]
    },
    {
      "cell_type": "markdown",
      "metadata": {
        "id": "2ycoEIgcmuaw"
      },
      "source": [
        "$$  \n",
        "y = x^Tx,  \\quad x \\in \\mathbb{R}^N \n",
        "$$"
      ]
    },
    {
      "cell_type": "markdown",
      "metadata": {
        "id": "w19ABjOUmuay"
      },
      "source": [
        "$$\n",
        "\\frac{dy}{dx} = \n",
        "$$ "
      ]
    },
    {
      "cell_type": "markdown",
      "source": [
        "$$\\quad x = (x_{1}, x_{2}, ..., x_{N-1}, x_{N}) \\\\\n",
        "y = x^Tx\n",
        "y = x_{1}^2 + x_{2}^2 + ... +x_{N-1}^2 + x_{N}^2 \\\\\n",
        "\\frac{dy}{dx} = (\\frac{\\partial y}{\\partial x_{1}}, \\frac{\\partial y}{\\partial x_{2}}, ..., \\frac{\\partial y}{\\partial x_{N-1}}\\frac{\\partial y}{\\partial x_{N}}) \\\\\n",
        "\\frac{dy}{dx} = (2x_{1}, 2x_{2}, ..., 2x_{N}) \\\\\n",
        "\\frac{dy}{dx} = 2x $$"
      ],
      "metadata": {
        "id": "pt0ZJoGaehpW"
      }
    },
    {
      "cell_type": "markdown",
      "metadata": {
        "id": "w-XXWqbfmua0"
      },
      "source": [
        "## ex. 2"
      ]
    },
    {
      "cell_type": "markdown",
      "metadata": {
        "id": "3MH4MQQYmua2"
      },
      "source": [
        "$$ y = tr(AB) \\quad A,B \\in \\mathbb{R}^{N \\times N} $$ "
      ]
    },
    {
      "cell_type": "markdown",
      "metadata": {
        "id": "8mJFXtuKmua2"
      },
      "source": [
        "$$\n",
        "\\frac{dy}{dA} =\n",
        "$$"
      ]
    },
    {
      "cell_type": "markdown",
      "source": [
        "$$trAB = \\sum_{i=1}^Na_{1i}b_{i1} + \\sum_{i=1}^Na_{2i}b_{i2} + ... + \\sum_{i=1}^Na_{Ni}b_{iN} \\\\\n",
        "\\frac{\\partial tr(AB)}{\\partial a_{ij}} = bji for all i\\\\\n",
        "\\frac{dy}{dA} = B^T \\\\\n",
        "$$"
      ],
      "metadata": {
        "id": "BCghbvSVfqxA"
      }
    },
    {
      "cell_type": "markdown",
      "metadata": {
        "id": "9Ghyzz-Amua4"
      },
      "source": [
        "## ex. 3"
      ]
    },
    {
      "cell_type": "markdown",
      "metadata": {
        "id": "uwXy1H__mua4"
      },
      "source": [
        "$$  \n",
        "y = x^TAc , \\quad A\\in \\mathbb{R}^{N \\times N}, x\\in \\mathbb{R}^{N}, c\\in \\mathbb{R}^{N} \n",
        "$$"
      ]
    },
    {
      "cell_type": "markdown",
      "metadata": {
        "id": "2qimYVc4mua5"
      },
      "source": [
        "$$\n",
        "\\frac{dy}{dx} =\n",
        "$$"
      ]
    },
    {
      "cell_type": "markdown",
      "metadata": {
        "id": "2MGD-JLymua5"
      },
      "source": [
        "$$\n",
        "\\frac{dy}{dA} =\n",
        "$$ "
      ]
    },
    {
      "cell_type": "markdown",
      "source": [
        "$$ B = Ac y = x^TB y = \\sum_{i=1}^Nx_{i}b_{i} \\\\\n",
        " \\frac{dy}{dx} = B = Ac\n",
        "x^TA = \\sum_{i=1}^N x_i a_{i1}...\\sum_{i=1}^N x_i a_{iN} \\\\\n",
        "y = x^TAc = \\sum_{i=1}^N\\sum_{j=1}^N x_{j} a_{ji} c_{i} \\\\\n",
        "\\frac{\\partial y}{\\partial a_{ij}} = x_{j} c_{i} \\\\\n",
        "\\frac{dy}{dA} = xc^T \\\\ $$\n"
      ],
      "metadata": {
        "id": "J0d4roBMf01Q"
      }
    },
    {
      "cell_type": "markdown",
      "metadata": {
        "id": "ER3yFbP4mua6"
      },
      "source": [
        "Hint for the latter (one of the ways): use *ex. 2* result and the fact \n",
        "$$\n",
        "tr(ABC) = tr (CAB)\n",
        "$$"
      ]
    },
    {
      "cell_type": "markdown",
      "metadata": {
        "id": "HRXftcYSmua7"
      },
      "source": [
        "## ex. 4"
      ]
    },
    {
      "cell_type": "markdown",
      "metadata": {
        "id": "7AcGudsSmua7"
      },
      "source": [
        "Classic matrix factorization example. Given matrix $X$ you need to find $A$, $S$ to approximate $X$. This can be done by simple gradient descent iteratively alternating $A$ and $S$ updates.\n",
        "$$\n",
        "J = || X - AS ||_F^2  , \\quad A\\in \\mathbb{R}^{N \\times R} , \\quad S\\in \\mathbb{R}^{R \\times M}\n",
        "$$\n",
        "$$\n",
        "\\frac{dJ}{dS} = ? \n",
        "$$\n",
        "\n",
        "You may use one of the following approaches:"
      ]
    },
    {
      "cell_type": "markdown",
      "metadata": {
        "id": "2PmYG4TGmua8"
      },
      "source": [
        "#### First approach\n",
        "Using ex.2 and the fact:\n",
        "$$\n",
        "|| X ||_F^2 = tr(XX^T) \n",
        "$$ \n",
        "it is easy to derive gradients (you can find it in one of the refs). "
      ]
    },
    {
      "cell_type": "markdown",
      "source": [
        "$$||( X - AS) ||_F^2 = tr((X - AS)(X - AS)^T)\n",
        "\\frac{dJ}{dS} = -2\\frac{d(tr(ASX^T))}{dS} + \\frac{d(tr(ASS^TA^T))}{dS} \\\\\n",
        "\\frac{d(tr(ASX^T))}{dS} = A^TX \\\\\n",
        "B = AS \\\\\n",
        "ASS^TA^T =BB^T \\\\\n",
        "B_{ij} = \\sum_{k=1}^RA_{ik}S_{kj}\n",
        "tr(BB^T) = \\sum_{i=1}^N\\sum_{j=1}^MB_{ij}^2 \\\\\n",
        "= \\sum_{i=1}^N\\sum_{j=1}^M(\\sum_{k=1}^RA_{ik}S_{kj})^2 \\\\\n",
        "\\frac{d(tr(BB^T))}{dS} = 2A^TB \\\\\n",
        "\\frac{d(tr(BB^T))}{dS} = 2A^TAS \\\\\n",
        "\\frac{dJ}{dS} = 2A^TAS - 2A^TX \\\\\n",
        "\\frac{dJ}{dS} = 2(A^TAS - A^TX) \\\\\n",
        "$$"
      ],
      "metadata": {
        "id": "Wul84tPWh3QR"
      }
    },
    {
      "cell_type": "markdown",
      "metadata": {
        "id": "5VOGj5hemua8"
      },
      "source": [
        "#### Second approach\n",
        "You can use *slightly different techniques* if they suits you. Take a look at this derivation:\n",
        "<img src=\"https://github.com/girafe-ai/ml-course/blob/22f_basic/homeworks/lab01_ml_pipeline/grad.png?raw=1\">\n",
        "(excerpt from [Handbook of blind source separation, Jutten, page 517](https://books.google.ru/books?id=PTbj03bYH6kC&printsec=frontcover&dq=Handbook+of+Blind+Source+Separation&hl=en&sa=X&ved=0ahUKEwi-q_apiJDLAhULvXIKHVXJDWcQ6AEIHDAA#v=onepage&q=Handbook%20of%20Blind%20Source%20Separation&f=false), open for better picture)."
      ]
    },
    {
      "cell_type": "markdown",
      "metadata": {
        "id": "bZaQ-tUrmua9"
      },
      "source": [
        "#### Third approach\n",
        "And finally we can use chain rule! \n",
        "let $ F = AS $ \n",
        "\n",
        "**Find**\n",
        "$$\n",
        "\\frac{dJ}{dF} =  \n",
        "$$ \n",
        "and \n",
        "$$\n",
        "\\frac{dF}{dS} =  \n",
        "$$ \n",
        "(the shape should be $ NM \\times RM )$.\n",
        "\n",
        "Now it is easy do get desired gradients:\n",
        "$$\n",
        "\\frac{dJ}{dS} =  \n",
        "$$ "
      ]
    },
    {
      "cell_type": "markdown",
      "source": [
        "$$J = || X - AS ||_F^2 = || X - F ||_F^2 = tr((X - F)(X - F)^T) = tr((X - F)(X^T-F^T) = tr(XX^T - 2FX^T + FF^T) \\\\\n",
        "\\frac{dJ}{dF} = -2 \\frac{d(tr(FX^T))}{dF} + \\frac{d(tr(FF^T))}{dF} = -2X + 2F \\\\\n",
        "\\frac{dF}{dS} = \\frac{d(AS)}{dS} = A^T \\\\\n",
        "\\frac{dJ}{dS} = = 2(ASA^T - XA^T)\\\\ $$"
      ],
      "metadata": {
        "id": "1oN_psckiY9p"
      }
    },
    {
      "cell_type": "markdown",
      "metadata": {
        "collapsed": true,
        "jupyter": {
          "outputs_hidden": true
        },
        "id": "oL2eIZIVmua9"
      },
      "source": [
        "## 2. kNN questions\n",
        "Here come the questions from the assignment0_01. Please, refer to the assignment0_01 to get the context of the questions."
      ]
    },
    {
      "cell_type": "markdown",
      "metadata": {
        "id": "atHOrvCVmua-"
      },
      "source": [
        "### Question 1\n",
        "\n",
        "Notice the structured patterns in the distance matrix, where some rows or columns are visible brighter. (Note that with the default color scheme black indicates low distances while white indicates high distances.)\n",
        "\n",
        "- What in the data is the cause behind the distinctly bright rows?\n",
        "- What causes the columns?\n",
        "\n",
        "*Your Answer:*\n",
        "Given that we are dealing with pixel intensity values, clearly bright rows signify a sizable difference in pixel intensities between the respective test and training photos (say a black background being \"compared\" to a white background and vice-versa). While variations in the foreground can undoubtedly affect pixel deltas, in some instances the background of a picture can make up a disproportionately large amount of the image, which can significantly affect a pixel-level delta. For the instance of clearly bright rows, we can deduce that the test picture's contents for that row's specific test image have a noticeably different foreground/background that results in a sizeable pixel delta. Similarly, the distinctly bright columns can be due to a particular train image having content that does not match the test images.\n",
        "\n",
        "The same happens with the columns but instead we now compare a training image with all test images.\n",
        "\n",
        "\n"
      ]
    },
    {
      "cell_type": "markdown",
      "metadata": {
        "id": "9lwsprTQmua-"
      },
      "source": [
        "### Question 2\n",
        "\n",
        "We can also use other distance metrics such as L1 distance.\n",
        "For pixel values $p_{ij}^{(k)}$ at location $(i,j)$ of some image $I_k$, \n",
        "\n",
        "the mean $\\mu$ across all pixels over all images is $$\\mu=\\frac{1}{nhw}\\sum_{k=1}^n\\sum_{i=1}^{h}\\sum_{j=1}^{w}p_{ij}^{(k)}$$\n",
        "And the pixel-wise mean $\\mu_{ij}$ across all images is \n",
        "$$\\mu_{ij}=\\frac{1}{n}\\sum_{k=1}^np_{ij}^{(k)}.$$\n",
        "The general standard deviation $\\sigma$ and pixel-wise standard deviation $\\sigma_{ij}$ is defined similarly.\n",
        "\n",
        "Which of the following preprocessing steps will not change the performance of a Nearest Neighbor classifier that uses L1 distance? Select all that apply.\n",
        "1. Subtracting the mean $\\mu$ ($\\tilde{p}_{ij}^{(k)}=p_{ij}^{(k)}-\\mu$.)\n",
        "2. Subtracting the per pixel mean $\\mu_{ij}$  ($\\tilde{p}_{ij}^{(k)}=p_{ij}^{(k)}-\\mu_{ij}$.)\n",
        "3. Subtracting the mean $\\mu$ and dividing by the standard deviation $\\sigma$.\n",
        "4. Subtracting the pixel-wise mean $\\mu_{ij}$ and dividing by the pixel-wise standard deviation $\\sigma_{ij}$.\n",
        "5. Rotating the coordinate axes of the data.\n",
        "\n",
        "*Your Answer:* 1 & 3.\n",
        "\n",
        "\n",
        "*Your Explanation:*\n",
        "The distance L1 is norm of x2, x1. \n",
        "1.On the subtraction of mean(μ). ![image.png](data:image/png;base64,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)\n",
        "Hence, L1 remains unchanged.\n",
        "3. On subtraction of the mean and division by standard deviation α.![image.png](data:image/png;base64,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) It is only scaled by a common factor. Hence, L1 remains ucnchanged.\n",
        "\n"
      ]
    },
    {
      "cell_type": "markdown",
      "metadata": {
        "id": "05nqF5rDmubA"
      },
      "source": [
        "## Question 3\n",
        "\n",
        "Which of the following statements about $k$-Nearest Neighbor ($k$-NN) are true in a classification setting, and for all $k$? Select all that apply.\n",
        "1. The decision boundary (hyperplane between classes in feature space) of the k-NN classifier is linear.\n",
        "2. The training error of a 1-NN will always be lower than that of 5-NN.\n",
        "3. The test error of a 1-NN will always be lower than that of a 5-NN.\n",
        "4. The time needed to classify a test example with the k-NN classifier grows with the size of the training set.\n",
        "5. None of the above.\n",
        "\n",
        "*Your Answer:* 4\n",
        "\n",
        "\n",
        "*Your Explanation:* Increasing the size of the training dataset results in a huge number of comparisons between a test example and the entire training dataset.\n",
        "\n",
        "\n"
      ]
    }
  ],
  "metadata": {
    "kernelspec": {
      "display_name": "mipt",
      "language": "python",
      "name": "mipt"
    },
    "language_info": {
      "codemirror_mode": {
        "name": "ipython",
        "version": 3
      },
      "file_extension": ".py",
      "mimetype": "text/x-python",
      "name": "python",
      "nbconvert_exporter": "python",
      "pygments_lexer": "ipython3",
      "version": "3.9.5"
    },
    "colab": {
      "provenance": []
    }
  },
  "nbformat": 4,
  "nbformat_minor": 0
}